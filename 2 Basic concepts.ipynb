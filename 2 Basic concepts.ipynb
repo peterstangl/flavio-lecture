{
 "cells": [
  {
   "cell_type": "markdown",
   "metadata": {
    "slideshow": {
     "slide_type": "slide"
    }
   },
   "source": [
    "# flavio tutorial\n",
    "\n",
    "## Part 2: Basic concepts\n",
    "\n"
   ]
  },
  {
   "cell_type": "markdown",
   "metadata": {
    "slideshow": {
     "slide_type": "slide"
    }
   },
   "source": [
    "## Observables, parameters, predictions\n",
    "\n",
    "- An *observable* $O$ in flavio is defined as a scalar physical quantity that can be *predicted* as a function of *parameters* $\\vec\\theta$ and *Wilson coefficients* $\\vec C$ and then compared to experiment\n",
    "\n",
    "$$P_O: \\vec\\theta, \\vec C \\to \\mathbb R$$\n",
    "\n",
    "- Example: observable $O=\\text{BR}(B_s\\to\\mu^+\\mu^-)$, parameters $\\vec\\theta = (G_F, f_{B_s}, \\ldots)$, Wilson coefficients $\\vec C = (C_{10}, \\ldots)$\n",
    "- New physics only affects Wilson coefficients (more later)\n"
   ]
  },
  {
   "cell_type": "markdown",
   "metadata": {
    "slideshow": {
     "slide_type": "slide"
    }
   },
   "source": [
    "## More on parameters\n",
    "\n",
    "- Real numbers that can be measured quantities (masses, lifetimes, ...) or theoretical parameters (form factor parametrization coefficients, ...)\n",
    "- Identified by string name, e.g. `'m_mu'`, `'tau_Bs'`\n",
    "- See <https://flav-io.github.io/docs/parameters.html> for full list\n",
    "- Default values set on import but can be easily modified"
   ]
  },
  {
   "cell_type": "markdown",
   "metadata": {
    "slideshow": {
     "slide_type": "subslide"
    }
   },
   "source": [
    "Parameters correspond to instances of the `flavio.Parameter` class and can be accessed via their name\n",
    "\n",
    "We can get a dictionary with all parameters by showing the instances of the class"
   ]
  },
  {
   "cell_type": "code",
   "execution_count": null,
   "metadata": {},
   "outputs": [],
   "source": [
    "import flavio"
   ]
  },
  {
   "cell_type": "code",
   "execution_count": null,
   "metadata": {
    "slideshow": {
     "slide_type": "-"
    }
   },
   "outputs": [],
   "source": [
    "flavio.Parameter.instances"
   ]
  },
  {
   "cell_type": "markdown",
   "metadata": {
    "slideshow": {
     "slide_type": "subslide"
    }
   },
   "source": [
    "We can use the `find()` method of the `flavio.Parameter` class to find parameters"
   ]
  },
  {
   "cell_type": "code",
   "execution_count": null,
   "metadata": {
    "scrolled": true
   },
   "outputs": [],
   "source": [
    "flavio.Parameter.find('m_') # find mass parameters"
   ]
  },
  {
   "cell_type": "markdown",
   "metadata": {
    "slideshow": {
     "slide_type": "subslide"
    }
   },
   "source": [
    "### Pretty representation of paramers in Jupyter\n",
    "\n",
    "Accessing a parameter via its name shows LaTeX name and description"
   ]
  },
  {
   "cell_type": "code",
   "execution_count": null,
   "metadata": {
    "slideshow": {
     "slide_type": "-"
    }
   },
   "outputs": [],
   "source": [
    "flavio.Parameter['GF']"
   ]
  },
  {
   "cell_type": "markdown",
   "metadata": {
    "slideshow": {
     "slide_type": "fragment"
    }
   },
   "source": [
    "But be careful since the following defines a new instance and overwrites the exsisting one:"
   ]
  },
  {
   "cell_type": "code",
   "execution_count": null,
   "metadata": {},
   "outputs": [],
   "source": [
    "flavio.Parameter('GF')"
   ]
  },
  {
   "cell_type": "markdown",
   "metadata": {
    "slideshow": {
     "slide_type": "subslide"
    }
   },
   "source": [
    "We can read in the default parameters again using the `read_default()` method of `flavio.default_parameters`"
   ]
  },
  {
   "cell_type": "code",
   "execution_count": null,
   "metadata": {},
   "outputs": [],
   "source": [
    "flavio.default_parameters.read_default()"
   ]
  },
  {
   "cell_type": "code",
   "execution_count": null,
   "metadata": {},
   "outputs": [],
   "source": [
    "flavio.Parameter['GF']"
   ]
  },
  {
   "cell_type": "markdown",
   "metadata": {
    "slideshow": {
     "slide_type": "subslide"
    }
   },
   "source": [
    "Another useful method of `flavio.default_parameters` is `get_central_all()`. As the name suggests, it returns all central values of the default parameters"
   ]
  },
  {
   "cell_type": "code",
   "execution_count": null,
   "metadata": {},
   "outputs": [],
   "source": [
    "flavio.default_parameters.get_central_all()"
   ]
  },
  {
   "cell_type": "markdown",
   "metadata": {
    "slideshow": {
     "slide_type": "subslide"
    }
   },
   "source": [
    "> Q: So what's the difference between a parameter and a measurement?  \n",
    "\n",
    "A: For flavio, a *parameter* is used as an input to a (theory) prediction of an *observable*, while a *measurement* is an experimental determination of this *observable* (more later)"
   ]
  },
  {
   "cell_type": "markdown",
   "metadata": {
    "slideshow": {
     "slide_type": "slide"
    }
   },
   "source": [
    "## More on observables\n",
    "\n",
    "- Observables are identified by string names as well, e.g. `'BR(Bs->mumu)'`\n",
    "- See https://flav-io.github.io/docs/observables.html for full list\n",
    "- Observables have (theory) **prediction** and **measurement** (or several) associated to them"
   ]
  },
  {
   "cell_type": "markdown",
   "metadata": {
    "slideshow": {
     "slide_type": "subslide"
    }
   },
   "source": [
    "Observables correspond to instances of the `flavio.Observable` class and can be accessed via their name\n",
    "\n",
    "We can get a dictionary with all observables by showing the instances of the class"
   ]
  },
  {
   "cell_type": "code",
   "execution_count": null,
   "metadata": {},
   "outputs": [],
   "source": [
    "flavio.Observable.instances"
   ]
  },
  {
   "cell_type": "markdown",
   "metadata": {
    "slideshow": {
     "slide_type": "subslide"
    }
   },
   "source": [
    "We can use the `find()` method of the `flavio.Observable` class to find observables using regular expressions"
   ]
  },
  {
   "cell_type": "code",
   "execution_count": null,
   "metadata": {},
   "outputs": [],
   "source": [
    "flavio.Observable.find('^BR.*->mumu\\)')"
   ]
  },
  {
   "cell_type": "markdown",
   "metadata": {
    "slideshow": {
     "slide_type": "subslide"
    }
   },
   "source": [
    "### Pretty representation of observables in Jupyter\n",
    "\n",
    "Accessing an observables via its name shows LaTeX name, description, and function for theory prediction"
   ]
  },
  {
   "cell_type": "code",
   "execution_count": null,
   "metadata": {},
   "outputs": [],
   "source": [
    "flavio.Observable['BR(Bs->mumu)']"
   ]
  },
  {
   "cell_type": "markdown",
   "metadata": {
    "slideshow": {
     "slide_type": "fragment"
    }
   },
   "source": [
    "Be carefule to not use `flavio.Observable('BR(Bs->mumu)')`, which defines a new instance and overwrites the existing one!"
   ]
  },
  {
   "cell_type": "markdown",
   "metadata": {
    "slideshow": {
     "slide_type": "subslide"
    }
   },
   "source": [
    "## SM prediction of an observable"
   ]
  },
  {
   "cell_type": "code",
   "execution_count": null,
   "metadata": {
    "slideshow": {
     "slide_type": "-"
    }
   },
   "outputs": [],
   "source": [
    "flavio.sm_prediction('BR(Bs->mumu)')"
   ]
  },
  {
   "cell_type": "markdown",
   "metadata": {
    "slideshow": {
     "slide_type": "subslide"
    }
   },
   "source": [
    "## Observables with arguments\n",
    "\n",
    "- Observables can also have additional arguements\n",
    "- Example: branching ratios differential in $q^2$\n",
    "- Numerical value of argument must be provided when computing prediction"
   ]
  },
  {
   "cell_type": "code",
   "execution_count": null,
   "metadata": {
    "slideshow": {
     "slide_type": "fragment"
    }
   },
   "outputs": [],
   "source": [
    "flavio.sm_prediction('dBR/dq2(B0->Denu)', q2=3)"
   ]
  },
  {
   "cell_type": "markdown",
   "metadata": {
    "slideshow": {
     "slide_type": "subslide"
    }
   },
   "source": [
    "Accessing an observables with arguments via its name also shows the required arguments"
   ]
  },
  {
   "cell_type": "code",
   "execution_count": null,
   "metadata": {
    "slideshow": {
     "slide_type": "-"
    }
   },
   "outputs": [],
   "source": [
    "flavio.Observable['dBR/dq2(B0->Denu)']"
   ]
  },
  {
   "cell_type": "markdown",
   "metadata": {
    "slideshow": {
     "slide_type": "subslide"
    }
   },
   "source": [
    "... what `sm_prediction` actually does is to compute the *prediction* for *central values* of all *parameters*"
   ]
  },
  {
   "cell_type": "code",
   "execution_count": null,
   "metadata": {
    "slideshow": {
     "slide_type": "fragment"
    }
   },
   "outputs": [],
   "source": [
    "flavio.sm_prediction('BR(Bs->mumu)')"
   ]
  },
  {
   "cell_type": "code",
   "execution_count": null,
   "metadata": {
    "slideshow": {
     "slide_type": "fragment"
    }
   },
   "outputs": [],
   "source": [
    "WCs_SM = flavio.WilsonCoefficients()\n",
    "pars_central = flavio.default_parameters.get_central_all()\n",
    "\n",
    "obs = flavio.Observable['BR(Bs->mumu)']\n",
    "obs.prediction.function(WCs_SM, pars_central)"
   ]
  },
  {
   "cell_type": "markdown",
   "metadata": {
    "slideshow": {
     "slide_type": "slide"
    }
   },
   "source": [
    "## Theoretical uncertainties\n",
    "\n",
    "- theory uncertainty = probability (or credibility) distribution associated with a prediction\n",
    "- sources: parametric, higher-order, systematic\n",
    "- In flavio, **all theory uncertainties are parametric**: PDFs associated with parameters"
   ]
  },
  {
   "cell_type": "markdown",
   "metadata": {
    "slideshow": {
     "slide_type": "slide"
    }
   },
   "source": [
    "## Probability distributions in flavio\n",
    "\n",
    "`flavio.statistics.probability` provides a number of one- and multidimensional PDFs:"
   ]
  },
  {
   "cell_type": "code",
   "execution_count": null,
   "metadata": {
    "slideshow": {
     "slide_type": "fragment"
    }
   },
   "outputs": [],
   "source": [
    "[c.__name__ for c\n",
    " in flavio.statistics.probability.ProbabilityDistribution.get_subclasses()]"
   ]
  },
  {
   "cell_type": "markdown",
   "metadata": {
    "slideshow": {
     "slide_type": "subslide"
    }
   },
   "source": [
    "## Defining parameter uncertainties\n",
    "\n",
    "- The `flavio.classes.ParameterConstraints` class contains the PDFs associated with parameters\n",
    "- There is a default instance used by convenience functions like `sm_prediction`: `flavio.default_parameters`\n",
    "- Default parameters are populated from two YAML files:\n",
    "    - [parameters_uncorrelated.yml](https://github.com/flav-io/flavio/blob/master/flavio/data/parameters_uncorrelated.yml)\n",
    "    - [parameters_correlated.yml](https://github.com/flav-io/flavio/blob/master/flavio/data/parameters_correlated.yml)"
   ]
  },
  {
   "cell_type": "markdown",
   "metadata": {
    "slideshow": {
     "slide_type": "subslide"
    }
   },
   "source": [
    "Example: set bottom quark mass & uncertainty"
   ]
  },
  {
   "cell_type": "code",
   "execution_count": null,
   "metadata": {
    "slideshow": {
     "slide_type": ""
    }
   },
   "outputs": [],
   "source": [
    "par = flavio.default_parameters\n",
    "from flavio.statistics.probability import NormalDistribution\n",
    "\n",
    "# verbose version\n",
    "par.add_constraint(\n",
    "    parameters=['m_b'],\n",
    "    constraint=NormalDistribution(central_value=4.18, standard_deviation=0.04)\n",
    ")\n",
    "\n",
    "# short version\n",
    "par.set_constraint('m_b', '4.18 +- 0.04')\n",
    "\n",
    "par.get_central('m_b'), par.get_1d_errors_rightleft()['m_b']"
   ]
  },
  {
   "cell_type": "code",
   "execution_count": null,
   "metadata": {},
   "outputs": [],
   "source": [
    "par.read_default()\n",
    "par.get_central('m_b'), par.get_1d_errors_rightleft()['m_b']"
   ]
  },
  {
   "cell_type": "markdown",
   "metadata": {
    "slideshow": {
     "slide_type": "slide"
    }
   },
   "source": [
    "## Computing theory uncertainties\n",
    "\n",
    "The default method to compute theory uncertainties is to generate $N$ random values for all *parameters*, compute the prediction for each random set, and take the mean/variance.\n",
    "\n",
    "NB, the relative precision is $1/\\sqrt{2N}$, computing time $\\propto N$."
   ]
  },
  {
   "cell_type": "code",
   "execution_count": null,
   "metadata": {
    "slideshow": {
     "slide_type": "subslide"
    }
   },
   "outputs": [],
   "source": [
    "print('central: ',             flavio.sm_prediction('BR(Bs->mumu)'))\n",
    "print('uncertainty, N=10: ',   flavio.sm_uncertainty('BR(Bs->mumu)', N=10))\n",
    "print('uncertainty, N=100: ',  flavio.sm_uncertainty('BR(Bs->mumu)', N=100))\n",
    "print('uncertainty, N=1000: ', flavio.sm_uncertainty('BR(Bs->mumu)', N=1000))\n",
    "print('uncertainty, N=5000: ', flavio.sm_uncertainty('BR(Bs->mumu)', N=5000))"
   ]
  },
  {
   "cell_type": "markdown",
   "metadata": {
    "slideshow": {
     "slide_type": "fragment"
    }
   },
   "source": [
    "NB, the default value `N=100` is usually a good compromise between speed & accuracy, but for the final numbers in your paper, better crank it up to 500 or so"
   ]
  },
  {
   "cell_type": "markdown",
   "metadata": {
    "slideshow": {
     "slide_type": "subslide"
    }
   },
   "source": [
    "## Parallel processing for uncertainty calculation\n",
    "\n",
    "- Uncertainty calculation can be very slow for some observables\n",
    "- Speed it up by using multiple cores"
   ]
  },
  {
   "cell_type": "code",
   "execution_count": null,
   "metadata": {},
   "outputs": [],
   "source": [
    "%%time\n",
    "flavio.sm_uncertainty('<P5p>(B0->K*mumu)',\n",
    "                      q2min=1, q2max=6, N=100)"
   ]
  },
  {
   "cell_type": "code",
   "execution_count": null,
   "metadata": {},
   "outputs": [],
   "source": [
    "%%time\n",
    "flavio.sm_uncertainty('<P5p>(B0->K*mumu)',\n",
    "                      q2min=1, q2max=6, N=100, threads=8)"
   ]
  },
  {
   "cell_type": "markdown",
   "metadata": {
    "slideshow": {
     "slide_type": "slide"
    }
   },
   "source": [
    "### Visualizing error budgets\n",
    "\n",
    "To understand the dominant sources of theory uncertainties, it can be useful to evaluate the uncertainties for one parameter (or correlated set of parameters) at a time. In flavio, this is done with the function `sm_error_budget`:"
   ]
  },
  {
   "cell_type": "code",
   "execution_count": null,
   "metadata": {},
   "outputs": [],
   "source": [
    "err_bsmumu = flavio.sm_error_budget('BR(Bs->mumu)')\n",
    "err_bsmumu"
   ]
  },
  {
   "cell_type": "markdown",
   "metadata": {
    "slideshow": {
     "slide_type": "subslide"
    }
   },
   "source": [
    "This can now be visualized.\n",
    "\n",
    "Necessary imports:"
   ]
  },
  {
   "cell_type": "code",
   "execution_count": null,
   "metadata": {},
   "outputs": [],
   "source": [
    "import flavio.plots as fpl\n",
    "%matplotlib inline\n",
    "%config InlineBackend.figure_format = 'svg'"
   ]
  },
  {
   "cell_type": "code",
   "execution_count": null,
   "metadata": {
    "slideshow": {
     "slide_type": ""
    }
   },
   "outputs": [],
   "source": [
    "fpl.error_budget_pie(err_bsmumu);"
   ]
  },
  {
   "cell_type": "markdown",
   "metadata": {
    "slideshow": {
     "slide_type": "slide"
    }
   },
   "source": [
    "Correlated uncertainties are lumped together:"
   ]
  },
  {
   "cell_type": "code",
   "execution_count": null,
   "metadata": {},
   "outputs": [],
   "source": [
    "err_p5p = flavio.sm_error_budget('P5p(B0->K*mumu)', q2=4)\n",
    "fpl.error_budget_pie(err_p5p);"
   ]
  },
  {
   "cell_type": "markdown",
   "metadata": {
    "slideshow": {
     "slide_type": "slide"
    }
   },
   "source": [
    "### Error budgets: caveat\n",
    "\n",
    "The implementations in flavio are a compromise between accuracy and computational speed. For statistical inference, only the total uncertainty is relevant. Thus, subleading contributions that are much smaller than the dominant uncertainty or much smaller than current experimental uncertainties are sometimes omitted."
   ]
  },
  {
   "cell_type": "markdown",
   "metadata": {
    "slideshow": {
     "slide_type": "slide"
    }
   },
   "source": [
    "## Measurements\n",
    "\n",
    "- A *measurement* is a *probability distribution* associated with one (or more) *observable(s)*\n",
    "- This probability distribution is provided by experiments and included in `flavio`"
   ]
  },
  {
   "cell_type": "markdown",
   "metadata": {
    "slideshow": {
     "slide_type": "subslide"
    }
   },
   "source": [
    "## Predefined measurements\n",
    "\n",
    "- Contained in [measurements.yaml](https://github.com/flav-io/flavio/blob/master/flavio/data/measurements.yml)\n",
    "- Simple example:\n",
    "\n",
    "```yaml\n",
    "LHCb rad 2012:                       # name\n",
    "  experiment: 'LHCb'                 # experiment\n",
    "  inspire: 'Aaij:2012ita'            # tex key\n",
    "  values:\n",
    "    BR(Bs->phigamma): 3.5 ± 0.4 e-5  # constraint\n",
    "```\n",
    "\n",
    "The constraint associates a normal distribution with the observable"
   ]
  },
  {
   "cell_type": "markdown",
   "metadata": {
    "slideshow": {
     "slide_type": "subslide"
    }
   },
   "source": [
    "Measurements correspond to instances of the `flavio.Measurement` class and can be accessed via their name\n",
    "\n",
    "We can get a dictionary with all measurements by showing the instances of the class"
   ]
  },
  {
   "cell_type": "code",
   "execution_count": null,
   "metadata": {
    "scrolled": true
   },
   "outputs": [],
   "source": [
    "flavio.Measurement.instances"
   ]
  },
  {
   "cell_type": "markdown",
   "metadata": {
    "slideshow": {
     "slide_type": "subslide"
    }
   },
   "source": [
    "We can use the `find()` method of the `flavio.Measurement` class to find measurements"
   ]
  },
  {
   "cell_type": "code",
   "execution_count": null,
   "metadata": {},
   "outputs": [],
   "source": [
    "flavio.Measurement.find('Belle')"
   ]
  },
  {
   "cell_type": "markdown",
   "metadata": {
    "slideshow": {
     "slide_type": "subslide"
    }
   },
   "source": [
    "### Getting measurements of a given observable\n",
    "\n",
    "The `get_measurements()` method of the `flavio.Observable` class lists all measurements of a given observable instance"
   ]
  },
  {
   "cell_type": "code",
   "execution_count": null,
   "metadata": {},
   "outputs": [],
   "source": [
    "flavio.Observable['<P5p>(B0->K*mumu)'].get_measurements()"
   ]
  },
  {
   "cell_type": "markdown",
   "metadata": {
    "slideshow": {
     "slide_type": "subslide"
    }
   },
   "source": [
    "### Pretty representation of measurements in Jupyter\n",
    "\n",
    "Accessing an measurement via its name shows experiment name, a link to Inspire, and the measured observables"
   ]
  },
  {
   "cell_type": "code",
   "execution_count": null,
   "metadata": {
    "scrolled": true
   },
   "outputs": [],
   "source": [
    "flavio.Measurement['LHCb B->K*mumu 2020 P 4-6']"
   ]
  },
  {
   "cell_type": "markdown",
   "metadata": {
    "slideshow": {
     "slide_type": "slide"
    }
   },
   "source": [
    "Again, note that `flavio.Measurement('LHCb B->K*mumu 2020 P 6-8')` defines a new instance and overwrites the existing one!"
   ]
  },
  {
   "cell_type": "markdown",
   "metadata": {
    "slideshow": {
     "slide_type": "fragment"
    }
   },
   "source": [
    "But it is easy to load the default measurements again"
   ]
  },
  {
   "cell_type": "code",
   "execution_count": null,
   "metadata": {},
   "outputs": [],
   "source": [
    "flavio.measurements.read_default()"
   ]
  },
  {
   "cell_type": "markdown",
   "metadata": {
    "slideshow": {
     "slide_type": "slide"
    }
   },
   "source": [
    "### Things to do with measurements: e.g. plots"
   ]
  },
  {
   "cell_type": "code",
   "execution_count": null,
   "metadata": {
    "scrolled": false,
    "slideshow": {
     "slide_type": ""
    }
   },
   "outputs": [],
   "source": [
    "import matplotlib.pyplot as plt\n",
    "obs = '<P5p>(B0->K*mumu)';\n",
    "fpl.bin_plot_exp(obs, col_dict={'LHCb': 'C0', 'CMS': 'C1', 'ATLAS': 'C2'});\n",
    "plt.legend()\n",
    "plt.xlabel(r'$q^2$ [GeV$^2$]')\n",
    "plt.ylabel(flavio.Observable[obs].tex);"
   ]
  },
  {
   "cell_type": "markdown",
   "metadata": {
    "slideshow": {
     "slide_type": "subslide"
    }
   },
   "source": [
    "Plotting the theory prediction with uncertatinties"
   ]
  },
  {
   "cell_type": "code",
   "execution_count": null,
   "metadata": {
    "slideshow": {
     "slide_type": ""
    }
   },
   "outputs": [],
   "source": [
    "obs = 'P5p(B0->K*mumu)';\n",
    "fpl.diff_plot_th_err(obs, 0.1, 6, threads=8, label=r'low $q^2$');\n",
    "fpl.diff_plot_th_err(obs, 15, 19, threads=8, label=r'high $q^2$');\n",
    "plt.legend()\n",
    "plt.xlabel(r'$q^2$ [GeV$^2$]')\n",
    "plt.ylabel(flavio.Observable[obs].tex);"
   ]
  },
  {
   "cell_type": "markdown",
   "metadata": {
    "slideshow": {
     "slide_type": "slide"
    }
   },
   "source": [
    "## Exercise\n",
    "\n",
    "Make a plot comparing the LHCb measurement of $P_5'$ in $B\\to K^*\\mu^+\\mu^-$ to the *binned* SM prediction.\n",
    "\n",
    "Hints:\n",
    "- use `flavio.plots.bin_plot_th` for the latter\n",
    "- Check the `flavio.plots` API docs: <https://flav-io.github.io/apidoc/flavio/plots/plotfunctions.m.html>"
   ]
  },
  {
   "cell_type": "markdown",
   "metadata": {
    "slideshow": {
     "slide_type": "slide"
    }
   },
   "source": [
    "Next: <a href=\"3 Wilson coefficients.ipynb\">Wilson coefficients</a>"
   ]
  }
 ],
 "metadata": {
  "celltoolbar": "Slideshow",
  "kernelspec": {
   "display_name": "Python 3",
   "language": "python",
   "name": "python3"
  },
  "language_info": {
   "codemirror_mode": {
    "name": "ipython",
    "version": 3
   },
   "file_extension": ".py",
   "mimetype": "text/x-python",
   "name": "python",
   "nbconvert_exporter": "python",
   "pygments_lexer": "ipython3",
   "version": "3.8.5"
  },
  "livereveal": {
   "autolaunch": true,
   "maxScale": 1.5,
   "minScale": 0.2,
   "scroll": true
  }
 },
 "nbformat": 4,
 "nbformat_minor": 2
}
