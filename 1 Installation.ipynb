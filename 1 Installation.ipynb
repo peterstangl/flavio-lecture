{
 "cells": [
  {
   "cell_type": "markdown",
   "metadata": {
    "slideshow": {
     "slide_type": "slide"
    }
   },
   "source": [
    "\n",
    "<img style=\"float:left;margin-right:1em;width:5em;\" src=\"img/flavio.svg\">\n",
    "\n",
    "# `flavio` - a Python package for flavour physics and other precision tests of the Standard Model\n",
    "\n",
    "<div style=\"clear:left;\"></div>\n",
    "\n",
    "Lecture by Peter Stangl (based on a tutorial by David M. Straub)\n",
    "\n",
    "- `flavio` documentation: https://flav-io.github.io/docs\n",
    "\n",
    "- `flavio` API documentation:  <https://flav-io.github.io/apidoc/flavio/>\n",
    "\n",
    "- `flavio` source: https://github.com/flav-io/flavio\n",
    "\n",
    "- Slides of this lecture: https://github.com/peterstangl/flavio-lecture/tree/2024_Zurich"
   ]
  },
  {
   "cell_type": "markdown",
   "metadata": {
    "slideshow": {
     "slide_type": "subslide"
    }
   },
   "source": [
    "### Outline\n",
    "\n",
    "1. Motivation and Installation\n",
    "2. <a href=\"2 Basic concepts.ipynb\">Basic concepts</a> (observables, predictions, parameters, measurements)\n",
    "3. <a href=\"3 Wilson coefficients.ipynb\">Wilson coefficients</a> (physics beyond the Standard Model)\n",
    "4. <a href=\"4 Likelihoods.ipynb\">Likelihoods</a> (comparing predictions to experimental data)\n",
    "\n",
    "- <a href=\"smelli.ipynb\">smelli</a> - the SMEFT likelihood"
   ]
  },
  {
   "cell_type": "markdown",
   "metadata": {
    "slideshow": {
     "slide_type": "subslide"
    }
   },
   "source": [
    "## Preliminary remarks\n",
    "\n",
    "- You can run these slides online in your browser without installing anyting at <https://bit.ly/2G60WSs>\n",
    "- This is made possible by a number of great projects:\n",
    "    - [Jupyter](http://jupyter.org/)\n",
    "    - [Binder](https://mybinder.org/)\n",
    "    - [reaveal.js](https://revealjs.com/)\n",
    "    - [RISE](https://github.com/damianavila/RISE)"
   ]
  },
  {
   "cell_type": "markdown",
   "metadata": {
    "slideshow": {
     "slide_type": "subslide"
    }
   },
   "source": [
    "### Navigating the slides\n",
    "\n",
    "- <kbd>PgUp</kbd> or <kbd>Space</kbd>: next slide\n",
    "- <kbd>PgDn</kbd> or <kbd>Shift</kbd> + <kbd>Space</kbd>: previous slide\n",
    "- <kbd>w</kbd>: overview mode\n",
    "- <kbd>Shift</kbd> + <kbd>Enter</kbd>: execute cell\n",
    "- <kbd>Enter</kbd>: edit cell"
   ]
  },
  {
   "cell_type": "markdown",
   "metadata": {
    "collapsed": true,
    "slideshow": {
     "slide_type": "slide"
    }
   },
   "source": [
    "## `flavio`: what can it do for me?"
   ]
  },
  {
   "cell_type": "markdown",
   "metadata": {
    "slideshow": {
     "slide_type": "subslide"
    }
   },
   "source": [
    "### 1. Predictions\n",
    "\n",
    "for a huge number of observables (flavour physics, electroweak precision observables, Higgs physics, ...)\n",
    "\n",
    "- **Standard Model** (SM) predictions\n",
    "- Predictions in the presence of **new physics** (NP) (parametrized by Wilson coefficients)\n",
    "- Theory **uncertainties** for SM and NP"
   ]
  },
  {
   "cell_type": "markdown",
   "metadata": {
    "slideshow": {
     "slide_type": "subslide"
    }
   },
   "source": [
    "### 2. Database of experimental data\n",
    "\n",
    "for all implemented observables that have been measured\n",
    "\n",
    "- provided in terms of YAML file\n",
    "- easy to update and extend"
   ]
  },
  {
   "cell_type": "markdown",
   "metadata": {
    "slideshow": {
     "slide_type": "subslide"
    }
   },
   "source": [
    "### 3. Likelihoods\n",
    "\n",
    "Combining predictions with experimental data allows constructing likelihoods\n",
    "\n",
    "- Likelihoods in parameters (e.g. CKM parameters) or Wilson coefficients\n",
    "- Possibility to use Gaussian approximation for **fast likelihood** estimates\n",
    "- Use external fitters to perform Bayesian or frequentist statistics with `flavio` likelihoods\n",
    "- `flavio` is the basis for the `smelli` [global SMEFT likelihood Python package](https://github.com/smelli/smelli) [[arXiv:1810.07698](https://arxiv.org/abs/1810.07698)]\n"
   ]
  },
  {
   "cell_type": "markdown",
   "metadata": {
    "slideshow": {
     "slide_type": "subslide"
    }
   },
   "source": [
    "### 4. Plots\n",
    "\n",
    "- Visualize experimental measurements & theory predictions\n",
    "- Visualize your likelihoods"
   ]
  },
  {
   "cell_type": "markdown",
   "metadata": {
    "slideshow": {
     "slide_type": "slide"
    }
   },
   "source": [
    "## Showcase\n",
    "\n",
    "New physics in $B$-decays in Weak effective theory @ 4.8 GeV  ([arXiv:2212.10497](https://arxiv.org/abs/2212.10497))\n",
    "\n",
    "<table><tr style=\"background-color:white;\">\n",
    "<td> <img src=\"img/C9_C10.svg\" width=500 height=500/> </td>\n",
    "<td> <img src=\"img/CLmu_C9univ.svg\" width=500 height=500/> </td>\n",
    "</tr></table>"
   ]
  },
  {
   "cell_type": "markdown",
   "metadata": {
    "slideshow": {
     "slide_type": "subslide"
    }
   },
   "source": [
    "S-T fit using combined Higgs and electroweak likelihood in SMEFT ([arXiv:1911.07866](https://arxiv.org/abs/1911.07866))\n",
    "\n",
    "\n",
    "<table><tr style=\"background-color:white;\">\n",
    "<td> <img src=\"img/S-T-Higgs.svg\" width=560 height=600/> </td>\n",
    "</tr></table>"
   ]
  },
  {
   "cell_type": "markdown",
   "metadata": {
    "slideshow": {
     "slide_type": "subslide"
    }
   },
   "source": [
    "Fits to new physics Wilson coefficients from LHCb analyses\n",
    "\n",
    "<table><tr style=\"background-color:white;\">\n",
    "<td> <img src=\"img/Fig6-supp.svg\" width=500 height=500/> </td>\n",
    "<td> <img src=\"img/RadiativeBdecays_Borsato.svg\" width=500 height=500/> </td>\n",
    "</tr></table>\n",
    "\n",
    "([LHCb-PAPER-2020-002](https://cds.cern.ch/record/2712641) and [LHCb-TALK-2020-155](https://cds.cern.ch/record/2730758))"
   ]
  },
  {
   "cell_type": "markdown",
   "metadata": {
    "slideshow": {
     "slide_type": "slide"
    }
   },
   "source": [
    "## Observables\n",
    "\n",
    "See https://flav-io.github.io/docs/observables.html\n",
    "\n",
    "- $B$ physics: $B\\to(V,P,X)(\\ell\\ell,\\ell\\nu)$, $B\\to (\\ell\\ell,\\ell\\nu)$, $B\\to (V,X)\\gamma$, $\\Lambda_b\\to\\Lambda \\ell\\ell$, $B_{d,s}$ mixing\n",
    "- $K$ physics: $K\\to\\pi\\nu\\nu$, $K\\to(\\ell\\ell,\\ell\\nu)$, $K\\to\\pi\\ell\\nu$, $K$ mixing\n",
    "- $D$ physics: $D\\to\\ell\\nu$, CPV in mixing\n",
    "- $\\mu$ physics: $\\mu\\to e\\gamma$, $\\mu\\to 3e$, $\\mu$-$e$ conversion, $\\nu$ trident\n",
    "- $\\tau$ physics: $\\tau\\to 3\\ell$, $\\tau\\to \\ell\\gamma$, $\\tau\\to(P,V), \\tau\\nu, \\tau\\ell\\nu\\nu$\n",
    "- EPWT: All LEP-1 $Z$ and $W$ pole observables\n",
    "- Dipole moments: $(g-2)_{e,\\mu\\tau}$, $d_n$\n",
    "- Higgs production and decay\n",
    "<span style=\"color:#de7300;font-size:70%;\"> &nbsp; new in flavio v2.0</span> <span style=\"color:#91ac6b;font-size:50%;\">Falkowski, Straub, [arXiv:1911.07866](https://arxiv.org/abs/1911.07866)</span>\n",
    "- Nuclear and neutron $\\beta$ decays\n",
    "<span style=\"color:#de7300;font-size:70%;\"> &nbsp; new in flavio v2.0</span>\n",
    "- Atomic and molecular EDMs\n",
    "<span style=\"color:#de7300;font-size:70%;\"> &nbsp; new in flavio v2.0</span>\n",
    "- High-mass Drell-Yan tails: $pp\\to e\\nu,\\mu\\nu$ and $pp\\to e^+e^-,\\mu^+\\mu^-$\n",
    "<span style=\"color:#de7300;font-size:70%;\"> &nbsp; new in flavio v2.5</span> <span style=\"color:#91ac6b;font-size:50%;\">Greljo, Salko, Smolkovič, PS, [arXiv:2212.10497](https://arxiv.org/abs/2212.10497)</span>"
   ]
  },
  {
   "cell_type": "markdown",
   "metadata": {
    "slideshow": {
     "slide_type": "slide"
    }
   },
   "source": [
    "## Setting up Python\n",
    "\n",
    "To install flavio, you need Python 3.7 or above as well as pip (Python package manager)\n",
    "\n",
    "(press Shift + Enter to execute this cell):"
   ]
  },
  {
   "cell_type": "code",
   "execution_count": null,
   "metadata": {
    "slideshow": {
     "slide_type": "-"
    }
   },
   "outputs": [],
   "source": [
    "! python3 --version\n",
    "! python3 -m pip --version"
   ]
  },
  {
   "cell_type": "markdown",
   "metadata": {
    "slideshow": {
     "slide_type": "fragment"
    }
   },
   "source": [
    "All set? If not, more options below"
   ]
  },
  {
   "cell_type": "markdown",
   "metadata": {
    "slideshow": {
     "slide_type": "subslide"
    }
   },
   "source": [
    "### I don't have Python yet\n",
    "\n",
    "- Ubuntu 20.04 or newer:\n",
    "\n",
    "  **`sudo apt install python3 python3-pip`**\n",
    "\n",
    "- MaC OS:\n",
    "\n",
    "  **`brew install python3`**\n",
    "\n",
    "NB: this will not interfere with your Python 2.7 installation!"
   ]
  },
  {
   "cell_type": "markdown",
   "metadata": {
    "slideshow": {
     "slide_type": "subslide"
    }
   },
   "source": [
    "### I use Windows\n",
    "\n",
    "or \n",
    "\n",
    "### I use an ancient Linux with Python 3.(x<7)\n",
    "\n",
    "&rarr; Use Anaconda/Miniconda"
   ]
  },
  {
   "cell_type": "markdown",
   "metadata": {
    "slideshow": {
     "slide_type": "subslide"
    }
   },
   "source": [
    "### Using Miniconda\n",
    "\n",
    "- Anaconda is a Python distribution with its own package manager (`conda`)\n",
    "- It works on Linux, Mac OS, and Windows\n",
    "- Miniconda is the minimal version just installing Python, `conda`, and `pip`\n",
    "- Download the installer from <https://conda.io/miniconda.html>"
   ]
  },
  {
   "cell_type": "markdown",
   "metadata": {
    "slideshow": {
     "slide_type": "slide"
    }
   },
   "source": [
    "## Installing the `flavio` package\n",
    "\n",
    "Once you have Python 3 and pip set up, `flavio` can be installed easily from the command\n",
    "line by entering:\n",
    "\n",
    "&nbsp;&nbsp;&nbsp;&nbsp;&nbsp;&nbsp;&nbsp;\n",
    "`python3 -m pip install flavio --user`\n",
    "\n",
    "To upgrade to a new version, use\n",
    "\n",
    "&nbsp;&nbsp;&nbsp;&nbsp;&nbsp;&nbsp;&nbsp;\n",
    "`python3 -m pip install flavio --user --upgrade`"
   ]
  },
  {
   "cell_type": "code",
   "execution_count": null,
   "metadata": {
    "slideshow": {
     "slide_type": "fragment"
    }
   },
   "outputs": [],
   "source": [
    "import flavio\n",
    "flavio.__version__"
   ]
  },
  {
   "cell_type": "markdown",
   "metadata": {
    "slideshow": {
     "slide_type": "slide"
    }
   },
   "source": [
    "## Installing Jupyter notebook\n",
    "\n",
    "A very convenient way to access all the features of `flavio` is **Jupyter Notebook**, which provides an interactive notebook interface for Python. It can be installed using pip:\n",
    "\n",
    "&nbsp;&nbsp;&nbsp;&nbsp;&nbsp;&nbsp;&nbsp;\n",
    "`python3 -m pip install notebook`\n",
    "\n",
    "Once the installation has finished, you can run the Jupyter Notebook application from the\n",
    "command line:\n",
    "\n",
    "&nbsp;&nbsp;&nbsp;&nbsp;&nbsp;&nbsp;&nbsp;\n",
    "`jupyter notebook`\n",
    "\n",
    "For more information about Jupyter Notebook, see https://jupyter.org.\n"
   ]
  },
  {
   "cell_type": "markdown",
   "metadata": {
    "slideshow": {
     "slide_type": "slide"
    }
   },
   "source": [
    "### Getting help\n",
    "\n",
    "- An introductory documentation can be found at <https://flav-io.github.io/docs/>\n",
    "- Detailed documentation of all functions and classes at <https://flav-io.github.io/apidoc/flavio/>\n",
    "- Jupyter/IPython: use auto-completion and `?`"
   ]
  },
  {
   "cell_type": "code",
   "execution_count": null,
   "metadata": {},
   "outputs": [],
   "source": [
    "?flavio.sm_prediction"
   ]
  },
  {
   "cell_type": "markdown",
   "metadata": {
    "slideshow": {
     "slide_type": "slide"
    }
   },
   "source": [
    "Next: <a href=\"2 Basic concepts.ipynb\">Basic concepts</a>"
   ]
  }
 ],
 "metadata": {
  "celltoolbar": "Slideshow",
  "kernelspec": {
   "display_name": "Python 3",
   "language": "python",
   "name": "python3"
  },
  "language_info": {
   "codemirror_mode": {
    "name": "ipython",
    "version": 3
   },
   "file_extension": ".py",
   "mimetype": "text/x-python",
   "name": "python",
   "nbconvert_exporter": "python",
   "pygments_lexer": "ipython3",
   "version": "3.8.10"
  },
  "livereveal": {
   "autolaunch": true,
   "maxScale": 1.5,
   "minScale": 0.2,
   "scroll": true
  }
 },
 "nbformat": 4,
 "nbformat_minor": 2
}
