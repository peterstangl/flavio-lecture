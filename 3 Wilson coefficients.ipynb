{
 "cells": [
  {
   "cell_type": "markdown",
   "metadata": {
    "slideshow": {
     "slide_type": "slide"
    }
   },
   "source": [
    "# flavio tutorial\n",
    "\n",
    "## Part 3: Wilson coefficients"
   ]
  },
  {
   "cell_type": "markdown",
   "metadata": {
    "slideshow": {
     "slide_type": "slide"
    }
   },
   "source": [
    "### Assumptions about new physics (NP) in flavio\n",
    "\n",
    "- NP enters observables via local interactions (operators) among known particles\n",
    "- NP only affects *predictions*, not *measurements*"
   ]
  },
  {
   "cell_type": "markdown",
   "metadata": {
    "slideshow": {
     "slide_type": "subslide"
    }
   },
   "source": [
    "### Operators & Wilson coefficients\n",
    "\n",
    "- The *Wilson coefficients* are the couplings strengths of the local operators\n",
    "- NP is dealt with in flavio by providing the numerical values of these Wilson coefficients\n",
    "- In flavour physics we usually deal with Wilson coefficients in the weak effective theory (WET) below the electroweak scale\n",
    "- Electroweak precision observables or observables in Higgs physics cannot be defined in the WET and require the Standard Model effective field theory (SMEFT) above the electroweak scale\n",
    "- SMEFT can also be used for flavour physics, in which case the running and matching to the WET is done automatically"
   ]
  },
  {
   "cell_type": "markdown",
   "metadata": {
    "slideshow": {
     "slide_type": "subslide"
    }
   },
   "source": [
    "### Hierarchy of effective field theories (EFTs)\n",
    "\n",
    "![](img/EFT-hierarchy-WCxf.svg)"
   ]
  },
  {
   "cell_type": "markdown",
   "metadata": {
    "collapsed": true,
    "slideshow": {
     "slide_type": "slide"
    }
   },
   "source": [
    "## Wilson coefficient exchange format (WCxf)\n",
    "\n",
    "Before discussing how to specify Wilson coefficients in flavio, let's have a look at a **new** data format defined in this write-up:\n",
    "\n",
    "> \"WCxf: an exchange format for Wilson coefficients beyond the Standard Model\"  \n",
    "> J. Aebischer et al.  \n",
    "> [arXiv:1712.05298](https://arxiv.org/abs/1712.05298)\n",
    "\n",
    "<https://wcxf.github.io>"
   ]
  },
  {
   "cell_type": "markdown",
   "metadata": {
    "slideshow": {
     "slide_type": "subslide"
    }
   },
   "source": [
    "### WCxf: motivation\n",
    "\n",
    "- WCxf allows to unambiguously define EFTs and bases of Wilson coefficients by depositing YAML definition files in a public repository\n",
    "- This allows codes like flavio to work with different bases, conventions, and even EFTs\n",
    "- flavio defines its own WCxf basis for WET, WET-4, and WET-3\n",
    "\n",
    "See <https://wcxf.github.io/bases.html>"
   ]
  },
  {
   "cell_type": "markdown",
   "metadata": {
    "slideshow": {
     "slide_type": "subslide"
    }
   },
   "source": [
    "### Basis facts about WCs in WCxf and flavio\n",
    "\n",
    "- Wilson coefficients are always numbers (not matrices)\n",
    "- can be real or complex depending on operator\n",
    "- Wilson coefficients refer to **NP contributions only**, i.e. vanish in the SM\n",
    "\n",
    "Example: `C9_bsmumu = -1` means that $C_9=C_9^\\text{SM} - 1$\n",
    "\n",
    "- Dimensionful coefficients are in appropriate powers of GeV"
   ]
  },
  {
   "cell_type": "markdown",
   "metadata": {
    "slideshow": {
     "slide_type": "slide"
    }
   },
   "source": [
    "## `Wilson` class\n",
    "\n",
    "- Implementation of Wilson coefficients is based on the `Wilson` class of the Python package `wilson`\n",
    "- `wilson` is automatically installed together with `flavio`\n",
    "- `wilson` uses WCxf and can deal with various EFTs and bases\n",
    "- Running in the SMEFT and WET as well as matching between them is also done by `wilson`"
   ]
  },
  {
   "cell_type": "markdown",
   "metadata": {
    "slideshow": {
     "slide_type": "subslide"
    }
   },
   "source": [
    "We can define a Wilson coefficient in terms of an instance of the class `Wilson` from the `wilson` packages"
   ]
  },
  {
   "cell_type": "code",
   "execution_count": null,
   "metadata": {
    "slideshow": {
     "slide_type": "-"
    }
   },
   "outputs": [],
   "source": [
    "from wilson import Wilson\n",
    "\n",
    "w = Wilson({'C9_bsmumu': -1, 'CVLR_bsbs': 1e-6}, scale=160, eft='WET', basis='flavio')\n",
    "w"
   ]
  },
  {
   "cell_type": "markdown",
   "metadata": {
    "slideshow": {
     "slide_type": "subslide"
    }
   },
   "source": [
    "A `Wilson` instance stores the Wilson coefficient in the attribute `wc` in terms of an instance of the `WC` class"
   ]
  },
  {
   "cell_type": "code",
   "execution_count": null,
   "metadata": {
    "slideshow": {
     "slide_type": "-"
    }
   },
   "outputs": [],
   "source": [
    "w.wc"
   ]
  },
  {
   "cell_type": "markdown",
   "metadata": {
    "slideshow": {
     "slide_type": "subslide"
    }
   },
   "source": [
    "The `match_run` method of a `Wilson` instance can be used to run the Wilson coefficients to a different scale (or match them to a different EFT)"
   ]
  },
  {
   "cell_type": "code",
   "execution_count": null,
   "metadata": {},
   "outputs": [],
   "source": [
    "wc = w.match_run(scale=4.2, eft='WET', basis='flavio', sectors=('sbsb',))\n",
    "wc"
   ]
  },
  {
   "cell_type": "markdown",
   "metadata": {
    "slideshow": {
     "slide_type": "fragment"
    }
   },
   "source": [
    "The `match_run` method returns a `WC` instance"
   ]
  },
  {
   "cell_type": "markdown",
   "metadata": {
    "slideshow": {
     "slide_type": "subslide"
    }
   },
   "source": [
    "The `WC` instance can be used to construct a `wilson` instance"
   ]
  },
  {
   "cell_type": "code",
   "execution_count": null,
   "metadata": {
    "slideshow": {
     "slide_type": "-"
    }
   },
   "outputs": [],
   "source": [
    "Wilson.from_wc(wc)"
   ]
  },
  {
   "cell_type": "markdown",
   "metadata": {
    "slideshow": {
     "slide_type": "slide"
    }
   },
   "source": [
    "## Using SMEFT\n",
    "\n",
    "The `wilson` Python package allows to automatically match SMEFT Wilson coefficients to the WET in the flavio basis.\n",
    "\n",
    "Example: $O_{qq}^{(1),  2323} = \\left( \\bar q_2 \\gamma_\\mu q_3 \\right) \\left( \\bar q_2 \\gamma^\\mu q_3 \\right)$"
   ]
  },
  {
   "cell_type": "code",
   "execution_count": null,
   "metadata": {
    "scrolled": true
   },
   "outputs": [],
   "source": [
    "w_smeft = Wilson({'qq1_2323': 1e-6}, scale=160,eft='SMEFT', basis='Warsaw')\n",
    "wc_wet = w_smeft.match_run(scale=160, eft='WET', basis='flavio')\n",
    "w_wet = Wilson.from_wc(wc_wet)"
   ]
  },
  {
   "cell_type": "code",
   "execution_count": null,
   "metadata": {
    "slideshow": {
     "slide_type": "-"
    }
   },
   "outputs": [],
   "source": [
    "w_smeft"
   ]
  },
  {
   "cell_type": "code",
   "execution_count": null,
   "metadata": {
    "slideshow": {
     "slide_type": "subslide"
    }
   },
   "outputs": [],
   "source": [
    "w_wet"
   ]
  },
  {
   "cell_type": "markdown",
   "metadata": {
    "slideshow": {
     "slide_type": "slide"
    }
   },
   "source": [
    "## NP predictions\n",
    "\n",
    "Having defined a `Wilson` instance, predictions can be computed in the presence of NP.\n",
    "\n",
    "Example: $R_K=\\text{BR}(B\\to K\\mu\\mu)/\\text{BR}(B\\to Kee)$"
   ]
  },
  {
   "cell_type": "code",
   "execution_count": null,
   "metadata": {},
   "outputs": [],
   "source": [
    "import flavio"
   ]
  },
  {
   "cell_type": "code",
   "execution_count": null,
   "metadata": {
    "scrolled": true
   },
   "outputs": [],
   "source": [
    "flavio.sm_prediction('<Rmue>(B+->Kll)', q2min=1, q2max=6)"
   ]
  },
  {
   "cell_type": "code",
   "execution_count": null,
   "metadata": {},
   "outputs": [],
   "source": [
    "w_np = Wilson({'C9_bsmumu': -1.2}, scale=4.2, eft='WET', basis='flavio')\n",
    "flavio.np_prediction('<Rmue>(B+->Kll)', q2min=1, q2max=6, wc_obj=w_np)"
   ]
  },
  {
   "cell_type": "markdown",
   "metadata": {
    "slideshow": {
     "slide_type": "subslide"
    }
   },
   "source": [
    "### Impact of NP on uncertatinties\n",
    "\n",
    "In $R_K$, form factor uncertainties cancel out exactly in the SM, but not in the presence of NP in numerator *or* denominator *only*"
   ]
  },
  {
   "cell_type": "code",
   "execution_count": null,
   "metadata": {
    "scrolled": true
   },
   "outputs": [],
   "source": [
    "flavio.sm_uncertainty('<Rmue>(B+->Kll)', q2min=1, q2max=6)"
   ]
  },
  {
   "cell_type": "code",
   "execution_count": null,
   "metadata": {
    "scrolled": true
   },
   "outputs": [],
   "source": [
    "flavio.np_uncertainty('<Rmue>(B+->Kll)', q2min=1, q2max=6, wc_obj=w_np)"
   ]
  },
  {
   "cell_type": "markdown",
   "metadata": {
    "slideshow": {
     "slide_type": "slide"
    }
   },
   "source": [
    "## Interfacing with other codes\n",
    "\n",
    "- In flavio, NP always enters through Wilson coefficients of local operators\n",
    "- To investigate dynamical NP *models*, Wilson coefficienst can be computed \"by hand\" or with a number of public codes\n",
    "- Some codes already support WCxf, e.g.: `SARAH`/`FlavorKit`, `SPheno`, `FormFlavor`\n",
    "(for full list of codes see https://wcxf.github.io/codes.html)"
   ]
  },
  {
   "cell_type": "markdown",
   "metadata": {
    "slideshow": {
     "slide_type": "subslide"
    }
   },
   "source": [
    "## Example: importing a WCxf file"
   ]
  },
  {
   "cell_type": "code",
   "execution_count": null,
   "metadata": {
    "scrolled": true
   },
   "outputs": [],
   "source": [
    "with open('files/wcxf-flavio-example.yml', 'r') as f:\n",
    "    w = Wilson.load_wc(f)\n",
    "w"
   ]
  },
  {
   "cell_type": "markdown",
   "metadata": {
    "slideshow": {
     "slide_type": "slide"
    }
   },
   "source": [
    "### Exercise:\n",
    "\n",
    "add the binned prediction in the presence of new physics to your $P_5'$ plot\n"
   ]
  },
  {
   "cell_type": "markdown",
   "metadata": {
    "slideshow": {
     "slide_type": "slide"
    }
   },
   "source": [
    "Next: <a href=\"4 Likelihoods.ipynb\">Likelihoods</a>"
   ]
  }
 ],
 "metadata": {
  "celltoolbar": "Slideshow",
  "kernelspec": {
   "display_name": "Python 3",
   "language": "python",
   "name": "python3"
  },
  "language_info": {
   "codemirror_mode": {
    "name": "ipython",
    "version": 3
   },
   "file_extension": ".py",
   "mimetype": "text/x-python",
   "name": "python",
   "nbconvert_exporter": "python",
   "pygments_lexer": "ipython3",
   "version": "3.8.5"
  },
  "livereveal": {
   "autolaunch": true,
   "maxScale": 1.5,
   "minScale": 0.2,
   "scroll": true
  }
 },
 "nbformat": 4,
 "nbformat_minor": 2
}
