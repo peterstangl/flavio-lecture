{
 "cells": [
  {
   "cell_type": "code",
   "execution_count": null,
   "metadata": {
    "slideshow": {
     "slide_type": "slide"
    }
   },
   "outputs": [],
   "source": [
    "import flavio\n",
    "import flavio.plots as fpl\n",
    "import matplotlib.pyplot as plt\n",
    "%matplotlib inline\n",
    "%config InlineBackend.figure_format = 'svg'"
   ]
  },
  {
   "cell_type": "code",
   "execution_count": null,
   "metadata": {},
   "outputs": [],
   "source": [
    "obs = '<P5p>(B0->K*mumu)';"
   ]
  },
  {
   "cell_type": "code",
   "execution_count": null,
   "metadata": {
    "scrolled": true
   },
   "outputs": [],
   "source": [
    "flavio.Observable[obs].get_measurements()"
   ]
  },
  {
   "cell_type": "code",
   "execution_count": null,
   "metadata": {},
   "outputs": [],
   "source": [
    "include_measurements=[\n",
    "    'LHCb B->K*mumu 2020 P 0.1-0.98',\n",
    "    'LHCb B->K*mumu 2020 P 1.1-2.5',\n",
    "    'LHCb B->K*mumu 2020 P 2.5-4',\n",
    "    'LHCb B->K*mumu 2020 P 4-6',\n",
    "    'LHCb B->K*mumu 2020 P 15-19',\n",
    "]"
   ]
  },
  {
   "cell_type": "code",
   "execution_count": null,
   "metadata": {
    "slideshow": {
     "slide_type": "subslide"
    }
   },
   "outputs": [],
   "source": [
    "bin_list=[(0.1,0.98), (1.1,2.5), (2.5,4), (4,6), (15,19)]"
   ]
  },
  {
   "cell_type": "code",
   "execution_count": null,
   "metadata": {
    "slideshow": {
     "slide_type": "-"
    }
   },
   "outputs": [],
   "source": [
    "fpl.bin_plot_exp(obs, include_measurements=include_measurements, col_dict={'LHCb': 'black'})\n",
    "\n",
    "fpl.bin_plot_th(obs, bin_list=bin_list, N=50, threads=8, label='SM')\n",
    "\n",
    "plt.legend()\n",
    "plt.ylim(-1,1)\n",
    "plt.xlabel(r'$q^2$ [GeV$^2$]')\n",
    "plt.ylabel(flavio.Observable[obs].tex);"
   ]
  },
  {
   "cell_type": "code",
   "execution_count": null,
   "metadata": {
    "slideshow": {
     "slide_type": "subslide"
    }
   },
   "outputs": [],
   "source": [
    "from wilson import Wilson\n",
    "\n",
    "w = Wilson({'C9_bsmumu':-1}, 4.8, 'WET', 'flavio')"
   ]
  },
  {
   "cell_type": "code",
   "execution_count": null,
   "metadata": {
    "slideshow": {
     "slide_type": "-"
    }
   },
   "outputs": [],
   "source": [
    "fpl.bin_plot_exp(obs, include_measurements=include_measurements, col_dict={'LHCb': 'black'})\n",
    "\n",
    "fpl.bin_plot_th(obs, bin_list=bin_list, N=50, threads=8, label='SM')\n",
    "\n",
    "fpl.bin_plot_th(obs, wc=w, bin_list=bin_list, N=50, threads=8, label='$C_9=-1$', fc='C2')\n",
    "\n",
    "plt.legend()\n",
    "plt.ylim(-1,1)\n",
    "plt.xlabel(r'$q^2$ [GeV$^2$]')\n",
    "plt.ylabel(flavio.Observable[obs].tex);"
   ]
  }
 ],
 "metadata": {
  "celltoolbar": "Slideshow",
  "kernelspec": {
   "display_name": "Python 3",
   "language": "python",
   "name": "python3"
  },
  "language_info": {
   "codemirror_mode": {
    "name": "ipython",
    "version": 3
   },
   "file_extension": ".py",
   "mimetype": "text/x-python",
   "name": "python",
   "nbconvert_exporter": "python",
   "pygments_lexer": "ipython3",
   "version": "3.8.5"
  },
  "livereveal": {
   "autolaunch": true,
   "maxScale": 1.5,
   "minScale": 0.2,
   "scroll": true
  }
 },
 "nbformat": 4,
 "nbformat_minor": 4
}
