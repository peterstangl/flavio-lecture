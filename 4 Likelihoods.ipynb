{
 "cells": [
  {
   "cell_type": "markdown",
   "metadata": {
    "slideshow": {
     "slide_type": "slide"
    }
   },
   "source": [
    "# flavio tutorial\n",
    "\n",
    "## Part 4: Likelihoods"
   ]
  },
  {
   "cell_type": "markdown",
   "metadata": {
    "slideshow": {
     "slide_type": "slide"
    }
   },
   "source": [
    "## \"Likelihoods\" in flavio\n",
    "\n",
    "A selection of *observables* and their *measurements* defines a likelihood in the space of a selection of *parameters* or *Wilson coefficients*\n",
    "\n",
    "Example: The SMEFT likelihood implemented in `smelli` considers a large set of around 400 observables and their measurements and is defined in the space of dimension six SMEFT Wilson coefficients"
   ]
  },
  {
   "cell_type": "markdown",
   "metadata": {
    "slideshow": {
     "slide_type": "subslide"
    }
   },
   "source": [
    "## The likelihood function\n",
    "\n",
    "$$\\mathcal L (\\vec C, \\vec\\theta)=\\prod_{i=1} \\mathcal L^i_\\text{exp}\\!\\left(O_i=O_i^\\text{th}(\\vec C, \\vec\\theta)\\right)\\times \\mathcal L_{\\theta}(\\vec \\theta) $$\n",
    "\n",
    "where\n",
    "- $\\mathcal L^\\text{exp}(O_i)$ probability distribution functions of experimental measurements of observables $O_i$\n",
    "- $O_i^\\text{th}(\\vec C, \\vec \\theta)$ theory predictions for observables\n",
    "- $\\vec C$ set of WET or SMEFT Wilson coefficients\n",
    "- $\\vec \\theta$ set of parameters\n",
    "- $\\mathcal L_\\theta(\\vec \\theta)$ experimental and theoretical constraints on parameters"
   ]
  },
  {
   "cell_type": "markdown",
   "metadata": {
    "slideshow": {
     "slide_type": "subslide"
    }
   },
   "source": [
    "- The parameters $\\vec \\theta$ can be split into fit parameters $\\vec \\xi$ and nuisance parameters $\\vec \\nu$\n",
    "- For a likelihood in Wilson coefficient space, all parameters $\\vec \\theta$ are nuisance parameters\n"
   ]
  },
  {
   "cell_type": "markdown",
   "metadata": {
    "slideshow": {
     "slide_type": "subslide"
    }
   },
   "source": [
    "Different ways to obtain \"nuisance-free\" likelihood\n",
    "\n",
    "- **Bayesian fit**: treat uncertainties on nuisance parameters as prior probabilities and use Bayes' theorem to *marginalize* over them (multi-dimensional integration requiring tools like Markov Chain Monte Carlo)\n",
    "\n",
    "- **Frequentist fit**: treat uncertainties on nuisance parameters as pseudo measurements and *profile* over them, i.e. optimizing the likelihood in nuisance parameter space for each point in fit parameter space"
   ]
  },
  {
   "cell_type": "markdown",
   "metadata": {
    "slideshow": {
     "slide_type": "fragment"
    }
   },
   "source": [
    "This can require a lot of computing power and time... "
   ]
  },
  {
   "cell_type": "markdown",
   "metadata": {
    "slideshow": {
     "slide_type": "subslide"
    }
   },
   "source": [
    "Approximations:\n",
    "\n",
    "- **Fast likelihood**: convolve the experimental uncertainties with the theoretical ones to construct a likelihood that only depends on fit parameters\n",
    "\n",
    "- **Very small theory uncertainty**: dependence of $\\mathcal L_\\theta$ on nuisance parameters can be neglected"
   ]
  },
  {
   "cell_type": "markdown",
   "metadata": {
    "slideshow": {
     "slide_type": "slide"
    }
   },
   "source": [
    "## Fast Likelihood\n",
    "\n",
    "Assumptions & advantages:\n",
    "- (!) experimental uncertainties approximated as Gaussian\n",
    "- (!) theory uncertainties approximated as Gaussian\n",
    "- (!) uncertainties weakly dependent on fit parameters\n",
    "- (+) Computing time does not depend on number of nuisance parameters\n",
    "- (+) Computation of covariances (expensive) does not depend on exp. data"
   ]
  },
  {
   "cell_type": "markdown",
   "metadata": {
    "slideshow": {
     "slide_type": "subslide"
    }
   },
   "source": [
    "## Setting up a \"Fast Likelihood\"\n",
    "\n",
    "Example: $C_7$ and $C_{10}$ from $B\\to X_s\\gamma$ and $B_s\\to\\mu^+\\mu^-$"
   ]
  },
  {
   "cell_type": "code",
   "execution_count": null,
   "metadata": {},
   "outputs": [],
   "source": [
    "import flavio\n",
    "from flavio.statistics.likelihood import FastLikelihood"
   ]
  },
  {
   "cell_type": "code",
   "execution_count": null,
   "metadata": {},
   "outputs": [],
   "source": [
    "FL = FastLikelihood(name='My fast likelihood',\n",
    "                    observables=['BR(B->Xsgamma)', 'BR(Bs->mumu)', 'BR(B0->mumu)'],\n",
    "                   )"
   ]
  },
  {
   "cell_type": "markdown",
   "metadata": {},
   "source": [
    "NB: `BR(B0->mumu)` is not sensitive to these coefficients but must be added since the measurements are correlated. Try running the command without it!"
   ]
  },
  {
   "cell_type": "markdown",
   "metadata": {
    "slideshow": {
     "slide_type": "subslide"
    }
   },
   "source": [
    "Let's have a look at the measurements available for our observables."
   ]
  },
  {
   "cell_type": "code",
   "execution_count": null,
   "metadata": {},
   "outputs": [],
   "source": [
    "set(\n",
    "    flavio.Observable['BR(B->Xsgamma)'].get_measurements() +\n",
    "    flavio.Observable['BR(Bs->mumu)'].get_measurements() +\n",
    "    flavio.Observable['BR(B0->mumu)'].get_measurements()\n",
    ")"
   ]
  },
  {
   "cell_type": "markdown",
   "metadata": {
    "slideshow": {
     "slide_type": "fragment"
    }
   },
   "source": [
    "But we don't want to include *both* a combination and the individual measurements!"
   ]
  },
  {
   "cell_type": "markdown",
   "metadata": {
    "slideshow": {
     "slide_type": "subslide"
    }
   },
   "source": [
    "What is the problem?\n",
    "\n",
    "By default, `FastLikelihood` uses all measurements available for a given observable.\n",
    "\n",
    "Solution: We have to either exclude unwanted measurements or include only those we want."
   ]
  },
  {
   "cell_type": "code",
   "execution_count": null,
   "metadata": {
    "slideshow": {
     "slide_type": ""
    }
   },
   "outputs": [],
   "source": [
    "FL = FastLikelihood(name='My fast likelihood',\n",
    "                    observables=['BR(B->Xsgamma)', 'BR(Bs->mumu)', 'BR(B0->mumu)'],\n",
    "                    include_measurements=['ATLAS CMS LHCb combination Bs->mumu 2020 Gaussian', 'B->Xgamma WA 2017'])"
   ]
  },
  {
   "cell_type": "markdown",
   "metadata": {
    "slideshow": {
     "slide_type": "subslide"
    }
   },
   "source": [
    "### A word of caution\n",
    "\n",
    "This is a general pitfall: when constructing a likelihood, one has to be careful to include observables and measurements consistently.\n",
    "\n",
    "A consitent likelihood based on `flavio` is already included in the package `smelli`:\n",
    "\n",
    "[github.com/smelli/smelli](https://github.com/smelli/smelli)"
   ]
  },
  {
   "cell_type": "markdown",
   "metadata": {
    "slideshow": {
     "slide_type": "subslide"
    }
   },
   "source": [
    "### Computing the covariance\n",
    "\n",
    "To compute the covariance of the \"pseudo measurement\" with combined experimental and theoretical uncertainties, need to call:"
   ]
  },
  {
   "cell_type": "code",
   "execution_count": null,
   "metadata": {},
   "outputs": [],
   "source": [
    "%time FL.make_measurement(N=100)"
   ]
  },
  {
   "cell_type": "markdown",
   "metadata": {
    "slideshow": {
     "slide_type": "fragment"
    }
   },
   "source": [
    "Advanced: increase precision, use parallelization"
   ]
  },
  {
   "cell_type": "code",
   "execution_count": null,
   "metadata": {},
   "outputs": [],
   "source": [
    "%time FL.make_measurement(N=1000, threads=8, force=True)  # force recomputation"
   ]
  },
  {
   "cell_type": "markdown",
   "metadata": {
    "slideshow": {
     "slide_type": "subslide"
    }
   },
   "source": [
    "Now we define a function for plotting and/or minimization"
   ]
  },
  {
   "cell_type": "code",
   "execution_count": null,
   "metadata": {},
   "outputs": [],
   "source": [
    "from wilson import Wilson"
   ]
  },
  {
   "cell_type": "code",
   "execution_count": null,
   "metadata": {},
   "outputs": [],
   "source": [
    "par = flavio.parameters.default_parameters.get_central_all()\n",
    "\n",
    "def FLL(x):\n",
    "    Re_C7, Re_C10 = x\n",
    "    w = Wilson({'C10_bsmumu': Re_C10, 'C7_bs': Re_C7},\n",
    "                scale=4.8,\n",
    "                eft='WET', basis='flavio')\n",
    "    return FL.log_likelihood(par, w)"
   ]
  },
  {
   "cell_type": "markdown",
   "metadata": {
    "slideshow": {
     "slide_type": "subslide"
    }
   },
   "source": [
    "### Minimize the chi2"
   ]
  },
  {
   "cell_type": "code",
   "execution_count": null,
   "metadata": {},
   "outputs": [],
   "source": [
    "from flavio.math.optimize import minimize"
   ]
  },
  {
   "cell_type": "code",
   "execution_count": null,
   "metadata": {},
   "outputs": [],
   "source": [
    "def chi2(x):\n",
    "    return -2*FLL(x)"
   ]
  },
  {
   "cell_type": "code",
   "execution_count": null,
   "metadata": {
    "scrolled": false
   },
   "outputs": [],
   "source": [
    "chi2_min = minimize(chi2,[0,0])\n",
    "chi2_min"
   ]
  },
  {
   "cell_type": "markdown",
   "metadata": {
    "slideshow": {
     "slide_type": "slide"
    }
   },
   "source": [
    "### 2D likelihood plots"
   ]
  },
  {
   "cell_type": "code",
   "execution_count": null,
   "metadata": {},
   "outputs": [],
   "source": [
    "import matplotlib.pyplot as plt\n",
    "import flavio.plots as fpl"
   ]
  },
  {
   "cell_type": "code",
   "execution_count": null,
   "metadata": {},
   "outputs": [],
   "source": [
    "%%time\n",
    "cdat = fpl.likelihood_contour_data(FLL,\n",
    "                                   x_min=-0.07, x_max=0.08, y_min=-2, y_max=2,\n",
    "                                   n_sigma=(1, 2, 3),\n",
    "                                   threads=8,\n",
    "                                   steps=20)"
   ]
  },
  {
   "cell_type": "code",
   "execution_count": null,
   "metadata": {},
   "outputs": [],
   "source": [
    "fpl.contour(**cdat, z_min=chi2_min['fun'])\n",
    "plt.xlabel(r'Re $C_7$');\n",
    "plt.ylabel(r'Re $C_{10}$');"
   ]
  },
  {
   "cell_type": "markdown",
   "metadata": {
    "slideshow": {
     "slide_type": "subslide"
    }
   },
   "source": [
    "This can be made more smooth by increasing `steps` or using interpolation (but be careful...)"
   ]
  },
  {
   "cell_type": "code",
   "execution_count": null,
   "metadata": {},
   "outputs": [],
   "source": [
    "fpl.contour(**cdat, z_min=chi2_min['fun'], interpolation_factor=3)\n",
    "plt.xlabel(r'Re $C_7$');\n",
    "plt.ylabel(r'Re $C_{10}$');"
   ]
  },
  {
   "cell_type": "markdown",
   "metadata": {
    "slideshow": {
     "slide_type": "slide"
    }
   },
   "source": [
    "## Neglecting theory uncertainties"
   ]
  },
  {
   "cell_type": "code",
   "execution_count": null,
   "metadata": {},
   "outputs": [],
   "source": [
    "from flavio.statistics.likelihood import Likelihood"
   ]
  },
  {
   "cell_type": "code",
   "execution_count": null,
   "metadata": {},
   "outputs": [],
   "source": [
    "L = Likelihood(observables=['BR(B->Xsgamma)', 'BR(Bs->mumu)', 'BR(B0->mumu)'],\n",
    "               include_measurements=['inofficial combination Bs->mumu 2019 CMS19', 'B->Xgamma WA 2017'])"
   ]
  },
  {
   "cell_type": "code",
   "execution_count": null,
   "metadata": {},
   "outputs": [],
   "source": [
    "par = flavio.parameters.default_parameters.get_central_all()\n",
    "\n",
    "def LL(x):\n",
    "    Re_C7, Re_C10 = x\n",
    "    w = Wilson({'C10_bsmumu': Re_C10, 'C7_bs': Re_C7},\n",
    "                scale=4.8,\n",
    "                eft='WET', basis='flavio')\n",
    "    return L.log_likelihood(par, w)"
   ]
  },
  {
   "cell_type": "markdown",
   "metadata": {
    "slideshow": {
     "slide_type": "subslide"
    }
   },
   "source": [
    "### Minimize the chi2"
   ]
  },
  {
   "cell_type": "code",
   "execution_count": null,
   "metadata": {},
   "outputs": [],
   "source": [
    "def chi2_LL(x):\n",
    "    return -2*LL(x)"
   ]
  },
  {
   "cell_type": "code",
   "execution_count": null,
   "metadata": {
    "scrolled": false
   },
   "outputs": [],
   "source": [
    "chi2_min_LL = minimize(chi2_LL,[0,0])\n",
    "chi2_min_LL"
   ]
  },
  {
   "cell_type": "markdown",
   "metadata": {
    "slideshow": {
     "slide_type": "slide"
    }
   },
   "source": [
    "### 2D likelihood plots"
   ]
  },
  {
   "cell_type": "code",
   "execution_count": null,
   "metadata": {},
   "outputs": [],
   "source": [
    "%%time\n",
    "cdat = fpl.likelihood_contour_data(LL,\n",
    "                                   x_min=-0.07, x_max=0.08, y_min=-2, y_max=2,\n",
    "                                   n_sigma=(1, 2, 3),\n",
    "                                   threads=8,\n",
    "                                   steps=20)"
   ]
  },
  {
   "cell_type": "code",
   "execution_count": null,
   "metadata": {
    "slideshow": {
     "slide_type": "subslide"
    }
   },
   "outputs": [],
   "source": [
    "fpl.contour(**cdat, z_min=chi2_min_LL['fun'], interpolation_factor=10)\n",
    "plt.xlabel(r'Re $C_7$');\n",
    "plt.ylabel(r'Re $C_{10}$');"
   ]
  },
  {
   "cell_type": "markdown",
   "metadata": {
    "slideshow": {
     "slide_type": "-"
    }
   },
   "source": [
    "Result in $C_7$ direction is not acceptable since theory uncertainties cannot be neglected..."
   ]
  },
  {
   "cell_type": "markdown",
   "metadata": {
    "slideshow": {
     "slide_type": "slide"
    }
   },
   "source": [
    "Next: <a href=\"../smelli-talk/smelli.ipynb\">smelli</a>"
   ]
  }
 ],
 "metadata": {
  "celltoolbar": "Slideshow",
  "kernelspec": {
   "display_name": "Python 3",
   "language": "python",
   "name": "python3"
  },
  "language_info": {
   "codemirror_mode": {
    "name": "ipython",
    "version": 3
   },
   "file_extension": ".py",
   "mimetype": "text/x-python",
   "name": "python",
   "nbconvert_exporter": "python",
   "pygments_lexer": "ipython3",
   "version": "3.8.5"
  },
  "livereveal": {
   "autolaunch": true,
   "maxScale": 1.5,
   "minScale": 0.2,
   "scroll": true
  }
 },
 "nbformat": 4,
 "nbformat_minor": 2
}
