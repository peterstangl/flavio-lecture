{
 "cells": [
  {
   "cell_type": "markdown",
   "metadata": {
    "slideshow": {
     "slide_type": "slide"
    }
   },
   "source": [
    "<img style=\"float:left;margin-right:1em;width:5em;\" src=\"img/smelli.svg\">\n",
    "\n",
    "# `smelli` - the **SME**FT **L**ike**LI**hood\n",
    "\n",
    "<div style=\"clear:left;\"></div>\n",
    "\n",
    "Lecture by Peter Stangl\n",
    "\n",
    "- `smelli` articles: [arXiv:1810.07698](https://arxiv.org/abs/1810.07698), [arXiv:2012.12211](https://arxiv.org/abs/2012.12211)\n",
    "\n",
    "- `smelli` API documentation: https://smelli.github.io/smelli/\n",
    "\n",
    "- `smelli` source: https://github.com/smelli/smelli\n",
    "\n",
    "- Slides of this lecture: https://github.com/peterstangl/flavio-lecture/tree/Ljubljana"
   ]
  },
  {
   "cell_type": "markdown",
   "metadata": {
    "slideshow": {
     "slide_type": "slide"
    }
   },
   "source": [
    "# The global SMEFT likelihood"
   ]
  },
  {
   "cell_type": "markdown",
   "metadata": {
    "slideshow": {
     "slide_type": "subslide"
    }
   },
   "source": [
    "## Implementation the global SMEFT likelihood"
   ]
  },
  {
   "cell_type": "markdown",
   "metadata": {},
   "source": [
    "-  Based on\n",
    "<img style=\"display:inline;margin-left:0.1em;margin-right:0.3em;margin-bottom:0.55em;height:.9em;\" src=\"img/flavio.svg\">**flavio**,\n",
    "<img style=\"display:inline;margin-left:0.1em;margin-right:0.3em;margin-bottom:0.55em;height:.9em;\" src=\"img/wilson.png\">**wilson**, and\n",
    "<img style=\"display:inline;margin-left:0.1em;margin-right:0.3em;margin-bottom:0.55em;height:.9em;\" src=\"img/wcxf.svg\">**WCxf**,\n",
    "we have started building the <br> global **SME**FT **L**ike**LI**hood <img style=\"display:inline;margin-left:0.1em;margin-right:0.3em;margin-bottom:0.55em;height:.9em;\" src=\"img/smelli.svg\">`smelli` https://github.com/smelli\n",
    "  <p style=\"float:left;width:100%;margin:0em;text-align:right;font-size:60%;color:#91ac6b;padding-right:3em;padding-left:3em;margin-top:-3em;\">Aebischer, Kumar, PS, Straub, arXiv:1810.07698\n",
    "    <br>\n",
    "    PS, arXiv:2012.12211\n",
    "</p>\n",
    "  <p style=\"clear:left;margin:0em;height:0em;padding:0em\"></p>"
   ]
  },
  {
   "cell_type": "markdown",
   "metadata": {},
   "source": [
    "<ul style=\"float:left;width:26em;margin-top:0.2em;\"><li>\n",
    "    $\n",
    "  L(\\vec C) \\approx\n",
    "  \\prod_{i} L_\\text{exp}^i(\\vec{O}_\\text{th}(\\vec C, \\vec \\theta_0))\n",
    "  \\times\n",
    "  \\tilde{L}_\\text{exp}(\\vec{O}_\\text{th}(\\vec C, \\vec \\theta_0))\n",
    "     $\n",
    "    where\n",
    "    <ul>\n",
    "        <li>$\\vec C$ WET or SMEFT Wilson coefficients</li>\n",
    "        <li>$\\vec \\theta_0$ fixed nuisance parameters</li>\n",
    "        <li>$\\vec{O}_\\text{th}(\\vec C, \\vec \\theta_0)$ observable predictions</li>\n",
    "        <li>$ L_\\text{exp}^i(\\vec{O})$ experimental likelihood from<br>measurement $i$ for observables $\\vec{O}$</li>\n",
    "        <li>$\\tilde{L}_\\text{exp}(\\vec O)$ modified exp. likelihood:<br>$-2\\ln \\tilde{L}_\\text{exp}(\\vec O)=\\vec D^T (\\Sigma_\\text{exp}+\\Sigma_\\text{th})^{-1} \\vec D \\,,$<br>with $\\vec D = \\vec O - \\vec O_\\text{exp}$ and\n",
    "      covariance<br>matrices $\\Sigma_\\text{exp,th}$ (Gaussian approx.)</li>\n",
    "    </ul>\n",
    "    </li></ul>\n",
    "        <img style=\"float:left;margin-left:2em;margin-top:1em;height:12em;\"; src=\"img/sketch-new.svg\"/>"
   ]
  },
  {
   "cell_type": "markdown",
   "metadata": {
    "slideshow": {
     "slide_type": "slide"
    }
   },
   "source": [
    "# Using `smelli`"
   ]
  },
  {
   "cell_type": "markdown",
   "metadata": {
    "slideshow": {
     "slide_type": "subslide"
    }
   },
   "source": [
    "## Installing `smelli`"
   ]
  },
  {
   "cell_type": "markdown",
   "metadata": {},
   "source": [
    "- Requirements:\n",
    "    - working installation of **Python** version **3.7** or above\n",
    "    - **pip** (Python package manager)"
   ]
  },
  {
   "cell_type": "markdown",
   "metadata": {},
   "source": [
    "- Installation from the command line:\n",
    "\n",
    "  **`python3 -m pip install smelli --user`**\n",
    "\n",
    "  - downloads `smelli` with all dependencies from Python package archive (PyPI)\n",
    "  - installs it in user's home directory (no need to be root)"
   ]
  },
  {
   "cell_type": "markdown",
   "metadata": {
    "slideshow": {
     "slide_type": "subslide"
    }
   },
   "source": [
    "## Instantiating the likelihood"
   ]
  },
  {
   "cell_type": "code",
   "execution_count": null,
   "metadata": {},
   "outputs": [],
   "source": [
    "from smelli import GlobalLikelihood"
   ]
  },
  {
   "cell_type": "code",
   "execution_count": null,
   "metadata": {},
   "outputs": [],
   "source": [
    "gl = GlobalLikelihood()"
   ]
  },
  {
   "cell_type": "code",
   "execution_count": null,
   "metadata": {},
   "outputs": [],
   "source": [
    "gl.eft, gl.basis"
   ]
  },
  {
   "cell_type": "code",
   "execution_count": null,
   "metadata": {},
   "outputs": [],
   "source": [
    "gl_wet = GlobalLikelihood(eft='WET', basis='flavio')\n",
    "gl_wet.eft, gl_wet.basis"
   ]
  },
  {
   "cell_type": "markdown",
   "metadata": {
    "slideshow": {
     "slide_type": "subslide"
    }
   },
   "source": [
    "## Fixing a point in WC space: 3 equivalent ways"
   ]
  },
  {
   "cell_type": "code",
   "execution_count": null,
   "metadata": {},
   "outputs": [],
   "source": [
    "pp = gl.parameter_point({'lq3_2223': 1e-9}, scale=1000)"
   ]
  },
  {
   "cell_type": "code",
   "execution_count": null,
   "metadata": {},
   "outputs": [],
   "source": [
    "from wilson import Wilson\n",
    "w = Wilson({'lq3_2223': 1e-9}, scale=1000, eft='SMEFT', basis='Warsaw')\n",
    "pp = gl.parameter_point(w)"
   ]
  },
  {
   "cell_type": "code",
   "execution_count": null,
   "metadata": {},
   "outputs": [],
   "source": [
    "! cat my_wcxf.yaml"
   ]
  },
  {
   "cell_type": "code",
   "execution_count": null,
   "metadata": {},
   "outputs": [],
   "source": [
    "pp = gl.parameter_point('my_wcxf.yaml')"
   ]
  },
  {
   "cell_type": "markdown",
   "metadata": {
    "slideshow": {
     "slide_type": "subslide"
    }
   },
   "source": [
    "## Computing the likelihood"
   ]
  },
  {
   "cell_type": "code",
   "execution_count": null,
   "metadata": {},
   "outputs": [],
   "source": [
    "%%time\n",
    "pp.log_likelihood_dict()"
   ]
  },
  {
   "cell_type": "code",
   "execution_count": null,
   "metadata": {},
   "outputs": [],
   "source": [
    "%%time\n",
    "pp.log_likelihood_global()"
   ]
  },
  {
   "cell_type": "code",
   "execution_count": null,
   "metadata": {
    "slideshow": {
     "slide_type": "subslide"
    }
   },
   "outputs": [],
   "source": [
    "pp.chi2_dict()"
   ]
  },
  {
   "cell_type": "code",
   "execution_count": null,
   "metadata": {},
   "outputs": [],
   "source": [
    "pp.pvalue_dict()"
   ]
  },
  {
   "cell_type": "markdown",
   "metadata": {
    "slideshow": {
     "slide_type": "subslide"
    }
   },
   "source": [
    "## Table of observables"
   ]
  },
  {
   "cell_type": "code",
   "execution_count": null,
   "metadata": {},
   "outputs": [],
   "source": [
    "df = pp.obstable()"
   ]
  },
  {
   "cell_type": "code",
   "execution_count": null,
   "metadata": {},
   "outputs": [],
   "source": [
    "df"
   ]
  },
  {
   "cell_type": "code",
   "execution_count": null,
   "metadata": {
    "scrolled": true,
    "slideshow": {
     "slide_type": "subslide"
    }
   },
   "outputs": [],
   "source": [
    "df.sort_values('pull SM')[:10]"
   ]
  },
  {
   "cell_type": "code",
   "execution_count": null,
   "metadata": {
    "slideshow": {
     "slide_type": "-"
    }
   },
   "outputs": [],
   "source": [
    "df.loc[['Rtaul(B->D*lnu)']]"
   ]
  },
  {
   "cell_type": "markdown",
   "metadata": {
    "slideshow": {
     "slide_type": "subslide"
    }
   },
   "source": [
    "## Plots"
   ]
  },
  {
   "cell_type": "code",
   "execution_count": null,
   "metadata": {},
   "outputs": [],
   "source": [
    "import flavio.plots as fpl\n",
    "import matplotlib.pyplot as plt\n",
    "from matplotlib import rcParams\n",
    "import warnings\n",
    "warnings.simplefilter('ignore')\n",
    "%matplotlib inline\n",
    "%config InlineBackend.figure_format = 'svg'\n",
    "rcParams.update({'font.size': 18, 'xtick.labelsize': 18, 'ytick.labelsize': 18, 'axes.labelsize':18})"
   ]
  },
  {
   "cell_type": "code",
   "execution_count": null,
   "metadata": {},
   "outputs": [],
   "source": [
    "gl_ewpt_higgs = GlobalLikelihood(fix_ckm=True, include_likelihoods=['likelihood_ewpt.yaml', 'likelihood_higgs.yaml'])"
   ]
  },
  {
   "cell_type": "code",
   "execution_count": null,
   "metadata": {},
   "outputs": [],
   "source": [
    "def wc_fct(S, T):\n",
    "    return {\n",
    "        'phiWB': S * 7.643950529889027e-08, # gL*gY/(16*pi*v**2)\n",
    "        'phiD': -T * 2.5793722852276787e-07, # gL**2*gY**2/(2*pi*v**2)/(gL**2+gY**2)\n",
    "    }\n",
    "scale = 91.1876"
   ]
  },
  {
   "cell_type": "code",
   "execution_count": null,
   "metadata": {},
   "outputs": [],
   "source": [
    "%%time\n",
    "\n",
    "plot_data = gl_ewpt_higgs.plot_data_2d(\n",
    "    wc_fct, scale,\n",
    "    -0.15, 0.25, -0.1, 0.3,\n",
    "    steps=10,\n",
    "    threads=8,\n",
    ")"
   ]
  },
  {
   "cell_type": "code",
   "execution_count": null,
   "metadata": {
    "slideshow": {
     "slide_type": "subslide"
    }
   },
   "outputs": [],
   "source": [
    "%%time\n",
    "\n",
    "chi2_min = gl_ewpt_higgs.chi2_min(wc_fct, scale, plotdata=plot_data)"
   ]
  },
  {
   "cell_type": "code",
   "execution_count": null,
   "metadata": {},
   "outputs": [],
   "source": [
    "plotdata = {k:{**v, **chi2_min[k]} for k,v in plot_data.items()}"
   ]
  },
  {
   "cell_type": "code",
   "execution_count": null,
   "metadata": {
    "slideshow": {
     "slide_type": "subslide"
    }
   },
   "outputs": [],
   "source": [
    "levels_1sig = [fpl.delta_chi2(1, dof=2)]\n",
    "levels_123sig = [fpl.delta_chi2(n_sigma, dof=2) for n_sigma in (1,2,3)]\n",
    "interpolation_factor = 3"
   ]
  },
  {
   "cell_type": "code",
   "execution_count": null,
   "metadata": {
    "slideshow": {
     "slide_type": "-"
    }
   },
   "outputs": [],
   "source": [
    "plt.figure(figsize=(6,6))\n",
    "fpl.contour(**plotdata['likelihood_higgs.yaml'], levels=levels_1sig, label=r\"Higgs ($1\\sigma$)\",\n",
    "            interpolation_factor=interpolation_factor, color='C0')\n",
    "fpl.contour(**plotdata['likelihood_ewpt.yaml'], levels=levels_1sig, label=r\"EWPT ($1\\sigma$)\",\n",
    "            interpolation_factor=interpolation_factor, color='C1')\n",
    "fpl.contour(**plotdata['global'], levels=levels_123sig, label=r\"global\",\n",
    "            interpolation_factor=interpolation_factor, color='C3')\n",
    "plt.axhline(c='0.6', linewidth=1)\n",
    "plt.axvline(c='0.6', linewidth=1)\n",
    "plt.xlabel(r'$S$')\n",
    "plt.ylabel(r'$T$')\n",
    "plt.legend()\n",
    "plt.show()"
   ]
  },
  {
   "cell_type": "markdown",
   "metadata": {
    "slideshow": {
     "slide_type": "slide"
    }
   },
   "source": [
    "## Outlook to `smelli` v3.0 (work in progress)\n",
    "\n",
    "- Major speed improvement (orders of magnitude)\n",
    "- High-mass Drell-Yan tails: $pp\\to e\\nu,\\mu\\nu$ and $pp\\to e^+e^-,\\mu^+\\mu^-$ (already available in `flavio`)\n",
    "- EDMs: neutron, atomic, and molecular (already available in `flavio`)"
   ]
  },
  {
   "cell_type": "markdown",
   "metadata": {
    "slideshow": {
     "slide_type": "slide"
    }
   },
   "source": [
    "## `flavio` and `smelli` are open source projects\n",
    "\n",
    "Contributions from the user community are very welcome and encouraged!\n",
    "\n",
    "If you want to use `flavio` or `smelli` for your research and you\n",
    "- implement a new observable\n",
    "- add or update measurements\n",
    "- have an idea for a new feature\n",
    "\n",
    "please get in contact by opening an issue on GitHub:\n",
    "\n",
    "- https://github.com/flav-io/flavio/\n",
    "- https://github.com/smelli/smelli"
   ]
  }
 ],
 "metadata": {
  "celltoolbar": "Slideshow",
  "kernelspec": {
   "display_name": "Python 3",
   "language": "python",
   "name": "python3"
  },
  "language_info": {
   "codemirror_mode": {
    "name": "ipython",
    "version": 3
   },
   "file_extension": ".py",
   "mimetype": "text/x-python",
   "name": "python",
   "nbconvert_exporter": "python",
   "pygments_lexer": "ipython3",
   "version": "3.8.10"
  },
  "livereveal": {
   "autolaunch": true
  }
 },
 "nbformat": 4,
 "nbformat_minor": 4
}
