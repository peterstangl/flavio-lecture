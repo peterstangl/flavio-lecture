{
 "cells": [
  {
   "cell_type": "code",
   "execution_count": null,
   "metadata": {
    "slideshow": {
     "slide_type": "slide"
    }
   },
   "outputs": [],
   "source": [
    "import flavio\n",
    "import flavio.plots as fpl\n",
    "import matplotlib.pyplot as plt\n",
    "%matplotlib inline\n",
    "%config InlineBackend.figure_format = 'svg'"
   ]
  },
  {
   "cell_type": "code",
   "execution_count": null,
   "metadata": {},
   "outputs": [],
   "source": [
    "obs = '<P5p>(B0->K*mumu)';"
   ]
  },
  {
   "cell_type": "code",
   "execution_count": null,
   "metadata": {
    "scrolled": true
   },
   "outputs": [],
   "source": [
    "flavio.Observable[obs].get_measurements()"
   ]
  },
  {
   "cell_type": "code",
   "execution_count": null,
   "metadata": {},
   "outputs": [],
   "source": [
    "include_measurements=[\n",
    "    'LHCb B->K*mumu 2020 P 0.1-0.98',\n",
    "    'LHCb B->K*mumu 2020 P 1.1-2.5',\n",
    "    'LHCb B->K*mumu 2020 P 2.5-4',\n",
    "    'LHCb B->K*mumu 2020 P 4-6',\n",
    "    'LHCb B->K*mumu 2020 P 15-19',\n",
    "]"
   ]
  },
  {
   "cell_type": "code",
   "execution_count": null,
   "metadata": {
    "slideshow": {
     "slide_type": "subslide"
    }
   },
   "outputs": [],
   "source": [
    "bin_list=[(0.1,0.98), (1.1,2.5), (2.5,4), (4,6), (15,19)]"
   ]
  },
  {
   "cell_type": "code",
   "execution_count": null,
   "metadata": {
    "slideshow": {
     "slide_type": "-"
    }
   },
   "outputs": [],
   "source": [
    "fpl.bin_plot_exp(obs, include_measurements=include_measurements, col_dict={'LHCb': 'black'})\n",
    "\n",
    "fpl.bin_plot_th(obs, bin_list=bin_list, N=50, threads=8, label='SM')\n",
    "\n",
    "plt.legend()\n",
    "plt.ylim(-1,1)\n",
    "plt.xlabel(r'$q^2$ [GeV$^2$]')\n",
    "plt.ylabel(flavio.Observable[obs].tex);"
   ]
  },
  {
   "cell_type": "code",
   "execution_count": null,
   "metadata": {
    "slideshow": {
     "slide_type": "subslide"
    }
   },
   "outputs": [],
   "source": [
    "from wilson import Wilson\n",
    "\n",
    "w = Wilson({'C9_bsmumu':-1}, 4.8, 'WET', 'flavio')"
   ]
  },
  {
   "cell_type": "code",
   "execution_count": null,
   "metadata": {
    "slideshow": {
     "slide_type": "-"
    }
   },
   "outputs": [],
   "source": [
    "fpl.bin_plot_exp(obs, include_measurements=include_measurements, col_dict={'LHCb': 'black'})\n",
    "\n",
    "fpl.bin_plot_th(obs, bin_list=bin_list, N=50, threads=8, label='SM')\n",
    "\n",
    "fpl.bin_plot_th(obs, wc=w, bin_list=bin_list, N=50, threads=8, label='$C_9=-1$', fc='C2')\n",
    "\n",
    "plt.legend()\n",
    "plt.ylim(-1,1)\n",
    "plt.xlabel(r'$q^2$ [GeV$^2$]')\n",
    "plt.ylabel(flavio.Observable[obs].tex);"
   ]
  },
  {
   "cell_type": "code",
   "execution_count": null,
   "metadata": {
    "slideshow": {
     "slide_type": "subslide"
    }
   },
   "outputs": [],
   "source": [
    "from flavio.statistics.likelihood import Likelihood\n",
    "from flavio.math.optimize import minimize"
   ]
  },
  {
   "cell_type": "code",
   "execution_count": null,
   "metadata": {},
   "outputs": [],
   "source": [
    "measurments = [\n",
    "    \"BaBar RD 2012\",\n",
    "    \"Belle B->D*lnu 2018 untagged\",\n",
    "    \"Belle RD had 2015\",\n",
    "    \"Belle RD* had 2016\",\n",
    "    \"Belle RD* sl 2019\",\n",
    "    \"Belle Rmue(B->D*lnu) 2017\",\n",
    "    \"LHCb RD* 2015\",\n",
    "    \"LHCb RD* 2017\",\n",
    "]\n",
    "observables = [\n",
    "    \"Rtaul(B->Dlnu)\",\n",
    "    \"Rmue(B->D*lnu)\",\n",
    "    \"Rtaul(B->D*lnu)\",\n",
    "    \"Rtaumu(B->D*lnu)\",\n",
    "]"
   ]
  },
  {
   "cell_type": "code",
   "execution_count": null,
   "metadata": {},
   "outputs": [],
   "source": [
    "L = Likelihood(observables=observables,\n",
    "               include_measurements=measurments)"
   ]
  },
  {
   "cell_type": "code",
   "execution_count": null,
   "metadata": {},
   "outputs": [],
   "source": [
    "par = flavio.parameters.default_parameters.get_central_all()\n",
    "\n",
    "def LL(x):\n",
    "    Re_CVL, Re_CVR = x\n",
    "    w = Wilson({'CVL_bctaunutau': Re_CVL, 'CVR_bctaunutau': Re_CVR},\n",
    "                scale=4.8,\n",
    "                eft='WET', basis='flavio')\n",
    "    return L.log_likelihood(par, w, delta=True)"
   ]
  },
  {
   "cell_type": "code",
   "execution_count": null,
   "metadata": {
    "slideshow": {
     "slide_type": "subslide"
    }
   },
   "outputs": [],
   "source": [
    "def chi2_LL(x):\n",
    "    return -2*LL(x)"
   ]
  },
  {
   "cell_type": "code",
   "execution_count": null,
   "metadata": {},
   "outputs": [],
   "source": [
    "chi2_min_LL = minimize(chi2_LL,[0,0])\n",
    "chi2_min_LL"
   ]
  },
  {
   "cell_type": "code",
   "execution_count": null,
   "metadata": {
    "slideshow": {
     "slide_type": "subslide"
    }
   },
   "outputs": [],
   "source": [
    "import flavio.plots as fpl"
   ]
  },
  {
   "cell_type": "code",
   "execution_count": null,
   "metadata": {},
   "outputs": [],
   "source": [
    "%%time\n",
    "cdat = fpl.likelihood_contour_data(LL,\n",
    "                                   x_min=0, x_max=0.2, y_min=-0.2, y_max=0.2,\n",
    "                                   n_sigma=(1, 2, 3),\n",
    "                                   threads=8,\n",
    "                                   steps=10)"
   ]
  },
  {
   "cell_type": "code",
   "execution_count": null,
   "metadata": {},
   "outputs": [],
   "source": [
    "plt.figure(figsize=(10,6))\n",
    "fpl.contour(**cdat, z_min=chi2_min_LL['fun'], interpolation_factor=9)\n",
    "plt.xlabel(r'Re $C_{VL}$');\n",
    "plt.ylabel(r'Re $C_{VR}$');"
   ]
  },
  {
   "cell_type": "code",
   "execution_count": null,
   "metadata": {},
   "outputs": [],
   "source": []
  }
 ],
 "metadata": {
  "celltoolbar": "Slideshow",
  "kernelspec": {
   "display_name": "Python 3",
   "language": "python",
   "name": "python3"
  },
  "language_info": {
   "codemirror_mode": {
    "name": "ipython",
    "version": 3
   },
   "file_extension": ".py",
   "mimetype": "text/x-python",
   "name": "python",
   "nbconvert_exporter": "python",
   "pygments_lexer": "ipython3",
   "version": "3.8.10"
  },
  "livereveal": {
   "autolaunch": true,
   "maxScale": 1.5,
   "minScale": 0.2,
   "scroll": true
  }
 },
 "nbformat": 4,
 "nbformat_minor": 4
}
