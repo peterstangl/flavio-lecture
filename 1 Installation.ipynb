{
 "cells": [
  {
   "cell_type": "markdown",
   "metadata": {
    "slideshow": {
     "slide_type": "slide"
    }
   },
   "source": [
    "\n",
    "<img style=\"float:left;margin-right:1em;width:5em;\" src=\"img/flavio.svg\">\n",
    "\n",
    "# `flavio` - a Python package for flavour physics and other precision tests of the Standard Model\n",
    "\n",
    "<div style=\"clear:left;\"></div>\n",
    "\n",
    "Lecture by Peter Stangl (based on a tutorial by David M. Straub)\n",
    "\n",
    "- `flavio` docs: https://flav-io.github.io\n",
    "- `flavio` source: https://github.com/flav-io/flavio\n",
    "- Slides of this lecture: https://github.com/peterstangl/flavio-lecture"
   ]
  },
  {
   "cell_type": "markdown",
   "metadata": {
    "slideshow": {
     "slide_type": "subslide"
    }
   },
   "source": [
    "### Outline\n",
    "\n",
    "1. Motivation and Installation\n",
    "2. <a href=\"2 Basic concepts.ipynb\">Basic concepts</a> (observables, predictions, parameters, measurements)\n",
    "3. <a href=\"3 Wilson coefficients.ipynb\">Wilson coefficients</a> (physics beyond the Standard Model)\n",
    "4. <a href=\"4 Likelihoods.ipynb\">Likelihoods</a> (comparing predictions to experimental data)"
   ]
  },
  {
   "cell_type": "markdown",
   "metadata": {
    "slideshow": {
     "slide_type": "subslide"
    }
   },
   "source": [
    "## Preliminary remarks\n",
    "\n",
    "- You can run these slides online in your browser without installing anyting at <https://bit.ly/2G60WSs>\n",
    "- This is made possible by a number of great projects:\n",
    "    - [Jupyter](http://jupyter.org/)\n",
    "    - [Binder](https://mybinder.org/)\n",
    "    - [reaveal.js](https://revealjs.com/)\n",
    "    - [RISE](https://github.com/damianavila/RISE)"
   ]
  },
  {
   "cell_type": "markdown",
   "metadata": {
    "slideshow": {
     "slide_type": "subslide"
    }
   },
   "source": [
    "### Navigating the slides\n",
    "\n",
    "- <kbd>PgUp</kbd> or <kbd>Space</kbd>: next slide\n",
    "- <kbd>PgDn</kbd> or <kbd>Shift</kbd> + <kbd>Space</kbd>: previous slide\n",
    "- <kbd>w</kbd>: overview mode\n",
    "- <kbd>Shift</kbd> + <kbd>Enter</kbd>: execute cell\n",
    "- <kbd>Enter</kbd>: edit cell"
   ]
  },
  {
   "cell_type": "markdown",
   "metadata": {
    "collapsed": true,
    "slideshow": {
     "slide_type": "slide"
    }
   },
   "source": [
    "## `flavio`: what can it do for me?"
   ]
  },
  {
   "cell_type": "markdown",
   "metadata": {
    "slideshow": {
     "slide_type": "subslide"
    }
   },
   "source": [
    "### 1. Predictions\n",
    "\n",
    "for a huge number of observables (flavour physics, electroweak precision observables, Higgs physics, ...)\n",
    "\n",
    "- **Standard Model** predictions (with uncertainties)\n",
    "- Predictions in the presence of **new physics** (parametrized as Wilson coefficient values)\n",
    "- interface to model-specific Wilson coefficient calculators"
   ]
  },
  {
   "cell_type": "markdown",
   "metadata": {
    "slideshow": {
     "slide_type": "subslide"
    }
   },
   "source": [
    "### 2. Likelihoods\n",
    "\n",
    "Combining predictions with experimental data contained in `flavio` allows constructing likelihoods\n",
    "\n",
    "- Likelihoods in parameters (e.g. CKM parameters) or Wilson coefficients\n",
    "- Use approximations for **fast likelihood** estimates\n",
    "- `flavio` is the basis for the `smelli` [global SMEFT likelihood Python package](https://github.com/smelli/smelli) [[arXiv:1810.07698](https://arxiv.org/abs/1810.07698)]\n",
    "- Use external fitters to perform Bayesian or frequentist statistics with `flavio` likelihoods"
   ]
  },
  {
   "cell_type": "markdown",
   "metadata": {
    "slideshow": {
     "slide_type": "subslide"
    }
   },
   "source": [
    "### 3. Plots\n",
    "\n",
    "- Visualize experimental measurements & theory predictions\n",
    "- Visualize your likelihoods"
   ]
  },
  {
   "cell_type": "markdown",
   "metadata": {
    "slideshow": {
     "slide_type": "slide"
    }
   },
   "source": [
    "## Showcase\n",
    "\n",
    "New physics in $B$-decays in WET and SMEFT Wilson coefficients\n",
    "\n",
    "<table><tr style=\"background-color:white;\">\n",
    "<td> <img src=\"img/TALK_C9UC9mC10_bsmumu_NCLFU_2020.svg\" width=500 height=500/> </td>\n",
    "<td> <img src=\"img/TALK_SMEFT_2020.svg\" width=500 height=500/> </td>\n",
    "</tr></table>"
   ]
  },
  {
   "cell_type": "markdown",
   "metadata": {
    "slideshow": {
     "slide_type": "subslide"
    }
   },
   "source": [
    "S-T fit using combined Higgs and electroweak likelihood ([arXiv:1911.07866](https://arxiv.org/abs/1911.07866))\n",
    "\n",
    "\n",
    "<table><tr style=\"background-color:white;\">\n",
    "<td> <img src=\"img/S-T-Higgs.svg\" width=560 height=600/> </td>\n",
    "</tr></table>"
   ]
  },
  {
   "cell_type": "markdown",
   "metadata": {
    "slideshow": {
     "slide_type": "subslide"
    }
   },
   "source": [
    "Fits to new physics Wilson coefficients from recent LHCb analyses\n",
    "\n",
    "<table><tr style=\"background-color:white;\">\n",
    "<td> <img src=\"img/Fig6-supp.svg\" width=500 height=500/> </td>\n",
    "<td> <img src=\"img/RadiativeBdecays_Borsato.svg\" width=500 height=500/> </td>\n",
    "</tr></table>\n",
    "\n",
    "([LHCb-PAPER-2020-002](https://cds.cern.ch/record/2712641) and [LHCb-TALK-2020-155](https://cds.cern.ch/record/2730758))"
   ]
  },
  {
   "cell_type": "markdown",
   "metadata": {
    "slideshow": {
     "slide_type": "slide"
    }
   },
   "source": [
    "## Ways of running flavio\n",
    "\n",
    "- interactively using Jupyter (or IPython)\n",
    "- as a script\n",
    "- on a supercomputer using parallelization (multithreading, MPI)\n",
    "- as a library in your own Python code"
   ]
  },
  {
   "cell_type": "markdown",
   "metadata": {
    "slideshow": {
     "slide_type": "slide"
    }
   },
   "source": [
    "## Setting up Python\n",
    "\n",
    "To install flavio, you need Python 3.6 or above as well as pip (Python package manager)\n",
    "\n",
    "(press Shift + Enter to execute this cell):"
   ]
  },
  {
   "cell_type": "code",
   "execution_count": null,
   "metadata": {
    "slideshow": {
     "slide_type": "-"
    }
   },
   "outputs": [],
   "source": [
    "! python3 --version\n",
    "! pip3 --version"
   ]
  },
  {
   "cell_type": "markdown",
   "metadata": {
    "slideshow": {
     "slide_type": "fragment"
    }
   },
   "source": [
    "All set? If not, more options below"
   ]
  },
  {
   "cell_type": "markdown",
   "metadata": {
    "slideshow": {
     "slide_type": "subslide"
    }
   },
   "source": [
    "### I don't have Python yet\n",
    "\n",
    "- Ubuntu 18.04 or newer:\n",
    "\n",
    "```bash\n",
    "sudo apt install python3 python3-pip```\n",
    "\n",
    "- MaC OS:\n",
    "\n",
    "```bash\n",
    "brew install python3```\n",
    "\n",
    "NB: this will not interfere with your Python 2.7 installation!"
   ]
  },
  {
   "cell_type": "markdown",
   "metadata": {
    "slideshow": {
     "slide_type": "subslide"
    }
   },
   "source": [
    "### I use Windows\n",
    "\n",
    "or \n",
    "\n",
    "### I use an ancient Linux with Python 3.(x<5)\n",
    "\n",
    "&rarr; Use Anaconda/Miniconda"
   ]
  },
  {
   "cell_type": "markdown",
   "metadata": {
    "slideshow": {
     "slide_type": "subslide"
    }
   },
   "source": [
    "### Using Miniconda\n",
    "\n",
    "- Anaconda is a Python distribution with its own package manager (`conda`)\n",
    "- It works on Linux, Mac OS, and Windows\n",
    "- Miniconda is the minimal version just installing Python, `conda`, and `pip`\n",
    "- Download the installer from <https://conda.io/miniconda.html>"
   ]
  },
  {
   "cell_type": "markdown",
   "metadata": {
    "slideshow": {
     "slide_type": "slide"
    }
   },
   "source": [
    "## Installing the `flavio` package\n",
    "\n",
    "This is now as simple as:\n",
    "\n",
    "```bash\n",
    "pip3 install flavio --user\n",
    "```\n",
    "\n",
    "To upgrade to a new version, use\n",
    "\n",
    "```bash\n",
    "pip3 install flavio --user --upgrade\n",
    "```"
   ]
  },
  {
   "cell_type": "code",
   "execution_count": null,
   "metadata": {
    "slideshow": {
     "slide_type": "fragment"
    }
   },
   "outputs": [],
   "source": [
    "import flavio\n",
    "flavio.__version__"
   ]
  },
  {
   "cell_type": "markdown",
   "metadata": {
    "slideshow": {
     "slide_type": "subslide"
    }
   },
   "source": [
    "### Installing extras\n",
    "\n",
    "Some additional features of flavio have dependencies that are not installed by default. You can install all of them with\n",
    "\n",
    "```bash\n",
    "pip3 install flavio[plotting,testing,sampling]\n",
    "```\n",
    "\n",
    "Note: `sampling` installs the `iminuit` package that requires `cython` and `numpy` to be installed first."
   ]
  },
  {
   "cell_type": "markdown",
   "metadata": {
    "slideshow": {
     "slide_type": "subslide"
    }
   },
   "source": [
    "### Tests\n",
    "\n",
    "If you want to tests whether all features of flavio work on your system, you can run all of the **unit tests** of the package:"
   ]
  },
  {
   "cell_type": "code",
   "execution_count": null,
   "metadata": {
    "slideshow": {
     "slide_type": ""
    }
   },
   "outputs": [],
   "source": [
    "! nosetests flavio"
   ]
  },
  {
   "cell_type": "markdown",
   "metadata": {
    "slideshow": {
     "slide_type": ""
    }
   },
   "source": [
    "Unit tests play an important role in making the code as reliable as possible and making development easier "
   ]
  },
  {
   "cell_type": "markdown",
   "metadata": {
    "slideshow": {
     "slide_type": "subslide"
    }
   },
   "source": [
    "(If the `nosetests` command doesn't work on your system, try running `python3 -m nose flavio` instead)"
   ]
  },
  {
   "cell_type": "markdown",
   "metadata": {
    "slideshow": {
     "slide_type": "slide"
    }
   },
   "source": [
    "## Installing Jupyter & IPython\n",
    "\n",
    "An **interactive Python interface** (like this one) provides easy access to all `flavio` functionality\n",
    "\n",
    "\n",
    "Install the Jupyter and IPython interfaces\n",
    "```bash\n",
    "pip3 install ipython jupyter --user\n",
    "```\n",
    "\n",
    "... and then run\n",
    "\n",
    "```bash\n",
    "jupyter notebook\n",
    "```\n",
    "or if you prefer an interactive terminal session:\n",
    "```bash\n",
    "ipython3\n",
    "```\n"
   ]
  },
  {
   "cell_type": "markdown",
   "metadata": {
    "slideshow": {
     "slide_type": "slide"
    }
   },
   "source": [
    "### Getting help\n",
    "\n",
    "- An introductory documentation can be found at <https://flav-io.github.io/docs/>\n",
    "- Detailed documentation of all functions and classes at <https://flav-io.github.io/apidoc/flavio/>\n",
    "- Jupyter/IPython: use auto-completion and `?`"
   ]
  },
  {
   "cell_type": "code",
   "execution_count": null,
   "metadata": {},
   "outputs": [],
   "source": [
    "?flavio.sm_prediction"
   ]
  },
  {
   "cell_type": "markdown",
   "metadata": {
    "slideshow": {
     "slide_type": "slide"
    }
   },
   "source": [
    "Next: <a href=\"2 Basic concepts.ipynb\">Basic concepts</a>"
   ]
  }
 ],
 "metadata": {
  "celltoolbar": "Slideshow",
  "kernelspec": {
   "display_name": "Python 3",
   "language": "python",
   "name": "python3"
  },
  "language_info": {
   "codemirror_mode": {
    "name": "ipython",
    "version": 3
   },
   "file_extension": ".py",
   "mimetype": "text/x-python",
   "name": "python",
   "nbconvert_exporter": "python",
   "pygments_lexer": "ipython3",
   "version": "3.8.10"
  },
  "livereveal": {
   "autolaunch": true,
   "maxScale": 1.5,
   "minScale": 0.2,
   "scroll": true
  }
 },
 "nbformat": 4,
 "nbformat_minor": 2
}
