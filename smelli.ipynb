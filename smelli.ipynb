{
 "cells": [
  {
   "cell_type": "markdown",
   "metadata": {
    "slideshow": {
     "slide_type": "slide"
    }
   },
   "source": [
    "<img style=\"float:left;margin-right:1em;width:5em;\" src=\"img/smelli.svg\">\n",
    "\n",
    "# `smelli` - the **SME**FT **L**ike**LI**hood\n",
    "\n",
    "<div style=\"clear:left;\"></div>\n",
    "\n",
    "Lecture by Peter Stangl\n",
    "\n",
    "- `smelli` articles: [arXiv:1810.07698](https://arxiv.org/abs/1810.07698), [arXiv:2012.12211](https://arxiv.org/abs/2012.12211)\n",
    "\n",
    "- `smelli` API documentation: https://smelli.github.io/smelli/\n",
    "\n",
    "- `smelli` source: https://github.com/smelli/smelli\n",
    "\n",
    "- Slides of this lecture: https://github.com/peterstangl/flavio-lecture/tree/Ljubljana"
   ]
  },
  {
   "cell_type": "markdown",
   "metadata": {
    "slideshow": {
     "slide_type": "slide"
    }
   },
   "source": [
    "# Motivation:\n",
    "# Lessons learned from the $B$ anomalies"
   ]
  },
  {
   "cell_type": "markdown",
   "metadata": {
    "slideshow": {
     "slide_type": "subslide"
    }
   },
   "source": [
    "## The $B$ anomalies ($b\\to s\\,\\ell\\ell$ and $b\\to c\\tau\\nu$)\n",
    "<img style=\"float:left;width:15em;margin-right:2em;\" src=\"img/P5p.svg\"/>\n",
    "<img style=\"float:left;width:15em;\" src=\"img/BF_Kp_1403_8044_LHCb.svg\"/>\n",
    "<p style=\"clear:left;height:0em;margin:0em;\"></p>\n",
    "<img style=\"float:left;width:14em;margin-right:2em;margin-left:1em;\" src=\"img/RK_2021.svg\"/>\n",
    "<img style=\"float:left;width:15em;margin-top:1em;\" src=\"img/summer2023_preliminary_new.svg\"/>\n",
    "<p style=\"clear:left;height:0em;margin:0em;\"></p>\n",
    "<p style=\"text-align:left;font-size:60%;color:#91ac6b;width:65em;margin:0em;\">\n",
    "LHCb, arXiv:2003.04831, arXiv:2012.13241, arXiv:1403.8044, arXiv:1506.08777, arXiv:1606.04731, arXiv:1705.05802, arXiv:2103.11769, arXiv:2212.09153<br>HFLAV, hflav.web.cern.ch</p>"
   ]
  },
  {
   "cell_type": "markdown",
   "metadata": {
    "slideshow": {
     "slide_type": "fragment"
    }
   },
   "source": [
    "<div style=\"position:absolute;top:-14em;left:1em;\">\n",
    "<img style=\"width:14em;\" src=\"img/RK_RKst_2022.svg\"/>\n",
    "</div>"
   ]
  },
  {
   "cell_type": "markdown",
   "metadata": {
    "slideshow": {
     "slide_type": "subslide"
    }
   },
   "source": [
    "## Model building - lessons learned"
   ]
  },
  {
   "cell_type": "markdown",
   "metadata": {
    "slideshow": {
     "slide_type": "-"
    }
   },
   "source": [
    "<ul style=\"float:left;width:28em;margin-top:0.2em;\"><li>\n",
    "    Model explaining $R_{D^{(*)}}$ using $b_L\\to c_L\\tau_L\\nu_{\\tau L}$\n",
    "    <p style=\"margin-left:2em;\">$b_L\\to c_L\\tau_L\\nu_{\\tau L}$ $\\quad\\xrightarrow{SU(2)_L}\\quad$ $b_L\\to s_L\\nu_{\\mu L}\\nu_{\\tau L}$</p>\n",
    "        Constrained by $B\\to K\\nu\\bar{\\nu}$ searches\n",
    "    <p style=\"text-align:right;font-size:60%;color:#91ac6b;padding-right:3em;margin-top:0.5em;\">\n",
    "    Buras, Girrbach-Noe, Niehoff, Straub, arXiv:1409.4557</p>\n",
    "</li></ul>\n",
    "        <img style=\"float:left;margin-left:2em;margin-top:0.5em;height:6em;\"; src=\"img/bctaunu_bsnunu.svg\"/>"
   ]
  },
  {
   "cell_type": "markdown",
   "metadata": {
    "slideshow": {
     "slide_type": "fragment"
    }
   },
   "source": [
    "<ul style=\"float:left;width:27em;margin-top:0.2em;\"><li>\n",
    "    Model explaining $R_{D^{(*)}}$ and $R_{K^{(*)}}$ using mostly 3rd gen. couplings\n",
    " <br>\n",
    " Modifies LFU in $\\tau$ and $Z$ decays, strongly constrained\n",
    "    <p style=\"text-align:right;font-size:60%;color:#91ac6b;padding-right:3em;margin-top:0.5em;\">\n",
    "    Feruglio, Paradisi, Pattori, arXiv:1705.00929</p>\n",
    "</li></ul>\n",
    "        <img style=\"float:left;margin-left:2em;margin-top:0em;height:7em;\"; src=\"img/taulfu-penguin.svg\"/>"
   ]
  },
  {
   "cell_type": "markdown",
   "metadata": {
    "slideshow": {
     "slide_type": "fragment"
    }
   },
   "source": [
    "<ul style=\"float:left;width:27em;margin-top:0.2em;\"><li>\n",
    "    Model explaining $b\\to s\\mu\\mu$ using $tt\\mu\\mu$ interaction\n",
    " <br>\n",
    " Modifies $Z\\to\\mu\\mu$, constrained by LEP\n",
    "    <p style=\"text-align:right;font-size:60%;color:#91ac6b;padding-right:3em;margin-top:0.5em;\">\n",
    " Camargo-Molina, Celis, Faroughy, arXiv:1805.04917</p>\n",
    "</li></ul>\n",
    "        <img style=\"float:left;margin-left:1.5em;margin-top:0em;height:5em;\"; src=\"img/diagrams-ttmumu.png\"/>\n",
    "        <p style=\"clear:left;\"></p>"
   ]
  },
  {
   "cell_type": "markdown",
   "metadata": {
    "slideshow": {
     "slide_type": "subslide"
    }
   },
   "source": [
    "## What one would have to do"
   ]
  },
  {
   "cell_type": "markdown",
   "metadata": {},
   "source": [
    "- Compute **all relevant observables** $\\vec{O}$ (flavour,\n",
    "  EWPO, ...) in terms of Lagrangian parameters $\\vec\\xi$\n",
    "  <p style=\"margin-left:2em;\">$\\mathcal L_\\text{NP}(\\vec\\xi) \\to \\vec{O}(\\vec{\\xi})$</p>"
   ]
  },
  {
   "cell_type": "markdown",
   "metadata": {},
   "source": [
    "- Take into account loop / RGE effects\n",
    "  <p style=\"margin-left:2em;\">$\\mathcal L_\\text{NP}(\\vec\\xi) \\xrightarrow{\\Lambda_\\text{NP}\\to \\Lambda_\\text{IR}} \\vec{O}(\\vec{\\xi})$</p>"
   ]
  },
  {
   "cell_type": "markdown",
   "metadata": {},
   "source": [
    "- Compare to experiment\n",
    "<p style=\"margin-left:2em;width:35em\">$\\vec{O}(\\vec{\\xi}) \\to \\underbrace{\\mathcal L_\\text{exp}(\\vec{O}(\\vec{\\xi}))}_\\text{Likelihood}$</p>"
   ]
  },
  {
   "cell_type": "markdown",
   "metadata": {
    "slideshow": {
     "slide_type": "-"
    }
   },
   "source": [
    "Tedious to do this for each model..."
   ]
  },
  {
   "cell_type": "markdown",
   "metadata": {
    "slideshow": {
     "slide_type": "subslide"
    }
   },
   "source": [
    "## The SMEFT approach"
   ]
  },
  {
   "cell_type": "markdown",
   "metadata": {},
   "source": [
    "- Assuming $\\Lambda_\\text{NP}\\gg v$, NP effects in flavour, EWPO, Higgs, top,... can be expressed in terms of Standard Model Effective Field Theory (SMEFT) Wilson coefficients\n",
    "  <p style=\"margin-left:2em;\">$\\mathcal L_\\text{SMEFT} = \\mathcal L_\\text{SM} + \\sum_{n>4}\\sum_i \\frac{C_i}{\\Lambda^{n-4}}O_i$</p>\n",
    "  \n",
    "  \n",
    "<p style=\"text-align:right;font-size:60%;color:#91ac6b;padding-right:3em;margin-top:-3.7em;\">\n",
    " Buchmuller, Wyler, Nucl. Phys. B 268 (1986) 621\n",
    " <br>\n",
    " Grzadkowski, Iskrzynski, Misiak, Rosiek, arXiv:1008.4884</p>"
   ]
  },
  {
   "cell_type": "markdown",
   "metadata": {},
   "source": [
    "- Powerful tool to connect model-building to phenomenology without\n",
    "  need to recompute hundreds of observables in each model\n",
    "\n",
    "  - Model building and matching:\n",
    "    <p style=\"margin-left:2em;margin-bottom:1em;\">$\\mathcal L_\\text{NP}(\\vec\\xi) \\to \\vec{C}(\\vec\\xi)\\ \\ \\ \\text{@}\\ \\ \\Lambda_\\text{NP}$</p>\n",
    "  - *Model-independent* pheno:\n",
    "    <p style=\"margin-left:2em;margin-bottom:1em;\">$\\vec{C}\\xrightarrow{\\Lambda_\\text{NP}\\to \\Lambda_\\text{IR}} \\vec{O}(\\vec{C}) \\to \\mathcal L_\\text{exp}(\\vec{O}(\\vec{C}))$</p>\n",
    "  - **SMEFT likelihood** $L_\\text{exp}(\\vec{C})$ can\n",
    "    tremendously simplify analyses of NP models"
   ]
  },
  {
   "cell_type": "markdown",
   "metadata": {
    "slideshow": {
     "slide_type": "slide"
    }
   },
   "source": [
    "# The global SMEFT likelihood"
   ]
  },
  {
   "cell_type": "markdown",
   "metadata": {
    "slideshow": {
     "slide_type": "subslide"
    }
   },
   "source": [
    "## The Global SMEFT likelihood"
   ]
  },
  {
   "cell_type": "markdown",
   "metadata": {},
   "source": [
    "- **SMEFT likelihood function** $\\mathcal L(\\vec{C})$ can tremendously simplify analyses of NP models"
   ]
  },
  {
   "cell_type": "markdown",
   "metadata": {
    "slideshow": {
     "slide_type": "-"
    }
   },
   "source": [
    "- Several likelihood functions have been considered in the context of EFT fits\n",
    "    <p style=\"margin-left:2em;\">\n",
    "    $\\mathcal L(\\vec C) = \\mathcal L_\\text{EW + Higgs}(\\vec C_\\text{EW + Higgs}) \\times \\ldots$<br>\n",
    "    $\\mathcal L(\\vec C) = \\mathcal L_\\text{top physics}(\\vec C_\\text{top physics}) \\times \\ldots$<br>\n",
    "    $\\mathcal L(\\vec C) = \\mathcal L_\\text{$B$ physics}(\\vec C_\\text{$B$ physics}) \\times \\ldots$<br>\n",
    "    $\\mathcal L(\\vec C) = \\mathcal L_\\text{LFV}(\\vec C_\\text{LFV}) \\times \\ldots$\n",
    "    </p>\n",
    "    \n",
    "\n",
    "<p style=\"text-align:right;font-size:60%;color:#91ac6b;padding-right:3em;margin-top:-9em;\">\n",
    "cf. eg.\n",
    "Falkowski, Mimouni, arXiv:1511.07434<br>\n",
    "Falkowski, González-Alonso, Mimouni, arXiv:1706.03783<br>\n",
    "Ellis, Murphy, Sanz, You, arXiv:1803.03252<br>\n",
    "Biekötter, Corbett, Plehn, arXiv:1812.07587<br>\n",
    "Hartland et al., arXiv:1901.05965<br>\n",
    "Ellis, Madigan, Mimasu, Sanz, You, arXiv:2012.02779<br>\n",
    "...\n",
    "</p>"
   ]
  },
  {
   "cell_type": "markdown",
   "metadata": {},
   "source": [
    "- But these likelihood functions should **not be considered separately** since RG (loop) effects mix different sectors and UV models match to several sectors"
   ]
  },
  {
   "cell_type": "markdown",
   "metadata": {},
   "source": [
    "- We need to consider the **global SMEFT likelihood**"
   ]
  },
  {
   "cell_type": "markdown",
   "metadata": {
    "slideshow": {
     "slide_type": "subslide"
    }
   },
   "source": [
    "## Implementing the global SMEFT likelihood"
   ]
  },
  {
   "cell_type": "markdown",
   "metadata": {},
   "source": [
    "-  Based on\n",
    "<img style=\"display:inline;margin-left:0.1em;margin-right:0.3em;margin-bottom:0.55em;height:.9em;\" src=\"img/flavio.svg\">**flavio**,\n",
    "<img style=\"display:inline;margin-left:0.1em;margin-right:0.3em;margin-bottom:0.55em;height:.9em;\" src=\"img/wilson.png\">**wilson**, and\n",
    "<img style=\"display:inline;margin-left:0.1em;margin-right:0.3em;margin-bottom:0.55em;height:.9em;\" src=\"img/wcxf.svg\">**WCxf**,\n",
    "we have started building the <br> global **SME**FT **L**ike**LI**hood <img style=\"display:inline;margin-left:0.1em;margin-right:0.3em;margin-bottom:0.55em;height:.9em;\" src=\"img/smelli.svg\">`smelli` https://github.com/smelli\n",
    "  <p style=\"float:left;width:100%;margin:0em;text-align:right;font-size:60%;color:#91ac6b;padding-right:3em;padding-left:3em;margin-top:-3em;\">Aebischer, Kumar, PS, Straub, arXiv:1810.07698\n",
    "    <br>\n",
    "    PS, arXiv:2012.12211\n",
    "</p>\n",
    "  <p style=\"clear:left;margin:0em;height:0em;padding:0em\"></p>"
   ]
  },
  {
   "cell_type": "markdown",
   "metadata": {},
   "source": [
    "<ul style=\"float:left;width:26em;margin-top:0.2em;\"><li>\n",
    "    $\n",
    "  L(\\vec C) \\approx\n",
    "  \\prod_{i} L_\\text{exp}^i(\\vec{O}_\\text{th}(\\vec C, \\vec \\theta_0))\n",
    "  \\times\n",
    "  \\tilde{L}_\\text{exp}(\\vec{O}_\\text{th}(\\vec C, \\vec \\theta_0))\n",
    "     $\n",
    "    where\n",
    "    <ul>\n",
    "        <li>$\\vec C$ WET or SMEFT Wilson coefficients</li>\n",
    "        <li>$\\vec \\theta_0$ fixed nuisance parameters</li>\n",
    "        <li>$\\vec{O}_\\text{th}(\\vec C, \\vec \\theta_0)$ observable predictions</li>\n",
    "        <li>$ L_\\text{exp}^i(\\vec{O})$ experimental likelihood from<br>measurement $i$ for observables $\\vec{O}$</li>\n",
    "        <li>$\\tilde{L}_\\text{exp}(\\vec O)$ modified exp. likelihood:<br>$-2\\ln \\tilde{L}_\\text{exp}(\\vec O)=\\vec D^T (\\Sigma_\\text{exp}+\\Sigma_\\text{th})^{-1} \\vec D \\,,$<br>with $\\vec D = \\vec O - \\vec O_\\text{exp}$ and\n",
    "      covariance<br>matrices $\\Sigma_\\text{exp,th}$ (Gaussian approx.)</li>\n",
    "    </ul>\n",
    "    </li></ul>\n",
    "        <img style=\"float:left;margin-left:2em;margin-top:1em;height:12em;\"; src=\"img/sketch-new.svg\"/>"
   ]
  },
  {
   "cell_type": "markdown",
   "metadata": {
    "slideshow": {
     "slide_type": "slide"
    }
   },
   "source": [
    "# Using `smelli`"
   ]
  },
  {
   "cell_type": "markdown",
   "metadata": {
    "slideshow": {
     "slide_type": "subslide"
    }
   },
   "source": [
    "## Installing `smelli`"
   ]
  },
  {
   "cell_type": "markdown",
   "metadata": {},
   "source": [
    "- Requirements:\n",
    "    - working installation of **Python** version **3.7** or above\n",
    "    - **pip** (Python package manager)"
   ]
  },
  {
   "cell_type": "markdown",
   "metadata": {},
   "source": [
    "- Installation from the command line:\n",
    "\n",
    "  **`python3 -m pip install smelli --user`**\n",
    "\n",
    "  - downloads `smelli` with all dependencies from Python package archive (PyPI)\n",
    "  - installs it in user's home directory (no need to be root)"
   ]
  },
  {
   "cell_type": "markdown",
   "metadata": {
    "slideshow": {
     "slide_type": "subslide"
    }
   },
   "source": [
    "## Instantiating the likelihood"
   ]
  },
  {
   "cell_type": "code",
   "execution_count": null,
   "metadata": {},
   "outputs": [],
   "source": [
    "from smelli import GlobalLikelihood"
   ]
  },
  {
   "cell_type": "code",
   "execution_count": null,
   "metadata": {},
   "outputs": [],
   "source": [
    "gl = GlobalLikelihood()"
   ]
  },
  {
   "cell_type": "code",
   "execution_count": null,
   "metadata": {},
   "outputs": [],
   "source": [
    "gl.eft, gl.basis"
   ]
  },
  {
   "cell_type": "code",
   "execution_count": null,
   "metadata": {},
   "outputs": [],
   "source": [
    "gl_wet = GlobalLikelihood(eft='WET', basis='flavio')\n",
    "gl_wet.eft, gl_wet.basis"
   ]
  },
  {
   "cell_type": "markdown",
   "metadata": {
    "slideshow": {
     "slide_type": "subslide"
    }
   },
   "source": [
    "## Fixing a point in WC space: 3 equivalent ways"
   ]
  },
  {
   "cell_type": "code",
   "execution_count": null,
   "metadata": {},
   "outputs": [],
   "source": [
    "pp = gl.parameter_point({'lq3_2223': 1e-9}, scale=1000)"
   ]
  },
  {
   "cell_type": "code",
   "execution_count": null,
   "metadata": {},
   "outputs": [],
   "source": [
    "from wilson import Wilson\n",
    "w = Wilson({'lq3_2223': 1e-9}, scale=1000, eft='SMEFT', basis='Warsaw')\n",
    "pp = gl.parameter_point(w)"
   ]
  },
  {
   "cell_type": "code",
   "execution_count": null,
   "metadata": {},
   "outputs": [],
   "source": [
    "! cat my_wcxf.yaml"
   ]
  },
  {
   "cell_type": "code",
   "execution_count": null,
   "metadata": {},
   "outputs": [],
   "source": [
    "pp = gl.parameter_point('my_wcxf.yaml')"
   ]
  },
  {
   "cell_type": "markdown",
   "metadata": {
    "slideshow": {
     "slide_type": "subslide"
    }
   },
   "source": [
    "## Computing the likelihood"
   ]
  },
  {
   "cell_type": "code",
   "execution_count": null,
   "metadata": {},
   "outputs": [],
   "source": [
    "%%time\n",
    "pp.log_likelihood_dict()"
   ]
  },
  {
   "cell_type": "code",
   "execution_count": null,
   "metadata": {},
   "outputs": [],
   "source": [
    "%%time\n",
    "pp.log_likelihood_global()"
   ]
  },
  {
   "cell_type": "code",
   "execution_count": null,
   "metadata": {
    "slideshow": {
     "slide_type": "subslide"
    }
   },
   "outputs": [],
   "source": [
    "pp.chi2_dict()"
   ]
  },
  {
   "cell_type": "code",
   "execution_count": null,
   "metadata": {},
   "outputs": [],
   "source": [
    "pp.pvalue_dict()"
   ]
  },
  {
   "cell_type": "markdown",
   "metadata": {
    "slideshow": {
     "slide_type": "subslide"
    }
   },
   "source": [
    "## Table of observables"
   ]
  },
  {
   "cell_type": "code",
   "execution_count": null,
   "metadata": {},
   "outputs": [],
   "source": [
    "df = pp.obstable()"
   ]
  },
  {
   "cell_type": "code",
   "execution_count": null,
   "metadata": {},
   "outputs": [],
   "source": [
    "df"
   ]
  },
  {
   "cell_type": "code",
   "execution_count": null,
   "metadata": {
    "scrolled": true,
    "slideshow": {
     "slide_type": "subslide"
    }
   },
   "outputs": [],
   "source": [
    "df.sort_values('pull SM')[:3]"
   ]
  },
  {
   "cell_type": "code",
   "execution_count": null,
   "metadata": {
    "slideshow": {
     "slide_type": "-"
    }
   },
   "outputs": [],
   "source": [
    "df.loc[['Rtaul(B->D*lnu)']]"
   ]
  },
  {
   "cell_type": "markdown",
   "metadata": {
    "slideshow": {
     "slide_type": "subslide"
    }
   },
   "source": [
    "## Plots"
   ]
  },
  {
   "cell_type": "code",
   "execution_count": null,
   "metadata": {},
   "outputs": [],
   "source": [
    "import flavio.plots as fpl\n",
    "import matplotlib.pyplot as plt\n",
    "import warnings\n",
    "warnings.simplefilter('ignore')"
   ]
  },
  {
   "cell_type": "code",
   "execution_count": null,
   "metadata": {},
   "outputs": [],
   "source": [
    "gl_ewpt_higgs = GlobalLikelihood(fix_ckm=True, include_likelihoods=['likelihood_ewpt.yaml', 'likelihood_higgs.yaml'])"
   ]
  },
  {
   "cell_type": "code",
   "execution_count": null,
   "metadata": {},
   "outputs": [],
   "source": [
    "def wc_fct(S, T):\n",
    "    return {\n",
    "        'phiWB': S * 7.643950529889027e-08, # gL*gY/(16*pi*v**2)\n",
    "        'phiD': -T * 2.5793722852276787e-07, # gL**2*gY**2/(2*pi*v**2)/(gL**2+gY**2)\n",
    "    }"
   ]
  },
  {
   "cell_type": "code",
   "execution_count": null,
   "metadata": {},
   "outputs": [],
   "source": [
    "%%time\n",
    "\n",
    "plot_data = gl_ewpt_higgs.plot_data_2d(\n",
    "    wc_fct,\n",
    "    91.1876,\n",
    "    -0.2, 0.2, -0.1, 0.3,\n",
    "    steps=10,\n",
    "    threads=8,\n",
    ")"
   ]
  },
  {
   "cell_type": "code",
   "execution_count": null,
   "metadata": {
    "slideshow": {
     "slide_type": "subslide"
    }
   },
   "outputs": [],
   "source": [
    "levels_1sig = [fpl.delta_chi2(1, dof=2)]\n",
    "levels_123sig = [fpl.delta_chi2(n_sigma, dof=2) for n_sigma in (1,2,3)]\n",
    "interpolation_factor = 9"
   ]
  },
  {
   "cell_type": "code",
   "execution_count": null,
   "metadata": {
    "slideshow": {
     "slide_type": "-"
    }
   },
   "outputs": [],
   "source": [
    "plt.figure(figsize=(5,5))\n",
    "fpl.contour(**plot_data['likelihood_higgs.yaml'], levels=levels_1sig, label=r\"Higgs ($1\\sigma$)\",\n",
    "            interpolation_factor=interpolation_factor, color='C0')\n",
    "fpl.contour(**plot_data['likelihood_ewpt.yaml'], levels=levels_1sig, label=r\"EWPT ($1\\sigma$)\",\n",
    "            interpolation_factor=interpolation_factor, color='C1')\n",
    "fpl.contour(**plot_data['global'], levels=levels_123sig, label=r\"global\",\n",
    "            interpolation_factor=interpolation_factor, color='C3')\n",
    "plt.axhline(c='0.6', linewidth=1)\n",
    "plt.axvline(c='0.6', linewidth=1)\n",
    "plt.xlabel(r'$S$')\n",
    "plt.ylabel(r'$T$')\n",
    "plt.legend()\n",
    "plt.show()"
   ]
  },
  {
   "cell_type": "markdown",
   "metadata": {
    "slideshow": {
     "slide_type": "slide"
    }
   },
   "source": [
    "## Outlook to `smelli` v3.0 (work in progress)\n",
    "\n",
    "- Major speed improvement (orders of magnitude)\n",
    "- High-mass Drell-Yan tails: $pp\\to e\\nu,\\mu\\nu$ and $pp\\to e^+e^-,\\mu^+\\mu^-$ (already available in `flavio`)\n",
    "- EDMs: neutron, atomic, and molecular (already available in `flavio`)"
   ]
  },
  {
   "cell_type": "markdown",
   "metadata": {
    "slideshow": {
     "slide_type": "slide"
    }
   },
   "source": [
    "## `flavio` and `smelli` are open source projects\n",
    "\n",
    "Contributions from the user community are very welcome and encouraged!\n",
    "\n",
    "If you want to use `flavio` or `smelli` for your research and you\n",
    "- implement a new observable\n",
    "- add or update measurements\n",
    "- have an idea for a new feature\n",
    "\n",
    "please get in contact by opening an issue on GitHub:\n",
    "\n",
    "- https://github.com/flav-io/flavio/\n",
    "- https://github.com/smelli/smelli"
   ]
  }
 ],
 "metadata": {
  "celltoolbar": "Slideshow",
  "kernelspec": {
   "display_name": "Python 3",
   "language": "python",
   "name": "python3"
  },
  "language_info": {
   "codemirror_mode": {
    "name": "ipython",
    "version": 3
   },
   "file_extension": ".py",
   "mimetype": "text/x-python",
   "name": "python",
   "nbconvert_exporter": "python",
   "pygments_lexer": "ipython3",
   "version": "3.8.10"
  },
  "livereveal": {
   "autolaunch": true
  }
 },
 "nbformat": 4,
 "nbformat_minor": 4
}
